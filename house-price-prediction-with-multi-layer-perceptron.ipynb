{
 "cells": [
  {
   "cell_type": "markdown",
   "id": "8c0f3046",
   "metadata": {
    "papermill": {
     "duration": 0.008414,
     "end_time": "2025-07-26T14:07:33.742647",
     "exception": false,
     "start_time": "2025-07-26T14:07:33.734233",
     "status": "completed"
    },
    "tags": []
   },
   "source": [
    "# This House Price Prediction model uses a Multi-Layer Perceptron (MLP). \n",
    "**I performed EDA and data preprocessing to extract key features. The model is trained with the Adam optimizer and Mean Squared Error (MSE) loss function.**"
   ]
  },
  {
   "cell_type": "code",
   "execution_count": 1,
   "id": "68f247f0",
   "metadata": {
    "_cell_guid": "b1076dfc-b9ad-4769-8c92-a6c4dae69d19",
    "_uuid": "8f2839f25d086af736a60e9eeb907d3b93b6e0e5",
    "execution": {
     "iopub.execute_input": "2025-07-26T14:07:33.759377Z",
     "iopub.status.busy": "2025-07-26T14:07:33.758534Z",
     "iopub.status.idle": "2025-07-26T14:07:35.596531Z",
     "shell.execute_reply": "2025-07-26T14:07:35.595405Z"
    },
    "papermill": {
     "duration": 1.84779,
     "end_time": "2025-07-26T14:07:35.598037",
     "exception": false,
     "start_time": "2025-07-26T14:07:33.750247",
     "status": "completed"
    },
    "tags": []
   },
   "outputs": [
    {
     "name": "stdout",
     "output_type": "stream",
     "text": [
      "/kaggle/input/house-price/house_prices.csv\n"
     ]
    }
   ],
   "source": [
    "# This Python 3 environment comes with many helpful analytics libraries installed\n",
    "# It is defined by the kaggle/python Docker image: https://github.com/kaggle/docker-python\n",
    "# For example, here's several helpful packages to load\n",
    "\n",
    "import numpy as np # linear algebra\n",
    "import pandas as pd # data processing, CSV file I/O (e.g. pd.read_csv)\n",
    "\n",
    "# Input data files are available in the read-only \"../input/\" directory\n",
    "# For example, running this (by clicking run or pressing Shift+Enter) will list all files under the input directory\n",
    "\n",
    "import os\n",
    "for dirname, _, filenames in os.walk('/kaggle/input'):\n",
    "    for filename in filenames:\n",
    "        print(os.path.join(dirname, filename))\n",
    "\n",
    "# You can write up to 20GB to the current directory (/kaggle/working/) that gets preserved as output when you create a version using \"Save & Run All\" \n",
    "# You can also write temporary files to /kaggle/temp/, but they won't be saved outside of the current session"
   ]
  },
  {
   "cell_type": "code",
   "execution_count": 2,
   "id": "8aecc3b3",
   "metadata": {
    "execution": {
     "iopub.execute_input": "2025-07-26T14:07:35.613724Z",
     "iopub.status.busy": "2025-07-26T14:07:35.613303Z",
     "iopub.status.idle": "2025-07-26T14:07:53.896272Z",
     "shell.execute_reply": "2025-07-26T14:07:53.895399Z"
    },
    "papermill": {
     "duration": 18.292538,
     "end_time": "2025-07-26T14:07:53.897912",
     "exception": false,
     "start_time": "2025-07-26T14:07:35.605374",
     "status": "completed"
    },
    "tags": []
   },
   "outputs": [
    {
     "name": "stderr",
     "output_type": "stream",
     "text": [
      "2025-07-26 14:07:39.114984: E external/local_xla/xla/stream_executor/cuda/cuda_fft.cc:477] Unable to register cuFFT factory: Attempting to register factory for plugin cuFFT when one has already been registered\n",
      "WARNING: All log messages before absl::InitializeLog() is called are written to STDERR\n",
      "E0000 00:00:1753538859.361745      13 cuda_dnn.cc:8310] Unable to register cuDNN factory: Attempting to register factory for plugin cuDNN when one has already been registered\n",
      "E0000 00:00:1753538859.429398      13 cuda_blas.cc:1418] Unable to register cuBLAS factory: Attempting to register factory for plugin cuBLAS when one has already been registered\n"
     ]
    }
   ],
   "source": [
    "import matplotlib.pyplot as plt\n",
    "from sklearn.model_selection import train_test_split\n",
    "from sklearn.preprocessing import StandardScaler\n",
    "from tensorflow.keras.models import Sequential\n",
    "from tensorflow.keras.layers import Dense\n",
    "from sklearn.metrics import mean_squared_error,r2_score"
   ]
  },
  {
   "cell_type": "code",
   "execution_count": 3,
   "id": "5d315e3a",
   "metadata": {
    "execution": {
     "iopub.execute_input": "2025-07-26T14:07:53.915344Z",
     "iopub.status.busy": "2025-07-26T14:07:53.914810Z",
     "iopub.status.idle": "2025-07-26T14:07:56.641471Z",
     "shell.execute_reply": "2025-07-26T14:07:56.640580Z"
    },
    "papermill": {
     "duration": 2.736556,
     "end_time": "2025-07-26T14:07:56.643146",
     "exception": false,
     "start_time": "2025-07-26T14:07:53.906590",
     "status": "completed"
    },
    "tags": []
   },
   "outputs": [],
   "source": [
    "data=pd.read_csv(\"/kaggle/input/house-price/house_prices.csv\")"
   ]
  },
  {
   "cell_type": "code",
   "execution_count": 4,
   "id": "4a7efe6e",
   "metadata": {
    "execution": {
     "iopub.execute_input": "2025-07-26T14:07:56.659307Z",
     "iopub.status.busy": "2025-07-26T14:07:56.659005Z",
     "iopub.status.idle": "2025-07-26T14:07:56.702082Z",
     "shell.execute_reply": "2025-07-26T14:07:56.701208Z"
    },
    "papermill": {
     "duration": 0.053175,
     "end_time": "2025-07-26T14:07:56.703951",
     "exception": false,
     "start_time": "2025-07-26T14:07:56.650776",
     "status": "completed"
    },
    "tags": []
   },
   "outputs": [
    {
     "name": "stderr",
     "output_type": "stream",
     "text": [
      "/usr/local/lib/python3.11/dist-packages/pandas/io/formats/format.py:1458: RuntimeWarning: invalid value encountered in greater\n",
      "  has_large_values = (abs_vals > 1e6).any()\n",
      "/usr/local/lib/python3.11/dist-packages/pandas/io/formats/format.py:1459: RuntimeWarning: invalid value encountered in less\n",
      "  has_small_values = ((abs_vals < 10 ** (-self.digits)) & (abs_vals > 0)).any()\n",
      "/usr/local/lib/python3.11/dist-packages/pandas/io/formats/format.py:1459: RuntimeWarning: invalid value encountered in greater\n",
      "  has_small_values = ((abs_vals < 10 ** (-self.digits)) & (abs_vals > 0)).any()\n",
      "/usr/local/lib/python3.11/dist-packages/pandas/io/formats/format.py:1458: RuntimeWarning: invalid value encountered in greater\n",
      "  has_large_values = (abs_vals > 1e6).any()\n",
      "/usr/local/lib/python3.11/dist-packages/pandas/io/formats/format.py:1459: RuntimeWarning: invalid value encountered in less\n",
      "  has_small_values = ((abs_vals < 10 ** (-self.digits)) & (abs_vals > 0)).any()\n",
      "/usr/local/lib/python3.11/dist-packages/pandas/io/formats/format.py:1459: RuntimeWarning: invalid value encountered in greater\n",
      "  has_small_values = ((abs_vals < 10 ** (-self.digits)) & (abs_vals > 0)).any()\n"
     ]
    },
    {
     "data": {
      "text/html": [
       "<div>\n",
       "<style scoped>\n",
       "    .dataframe tbody tr th:only-of-type {\n",
       "        vertical-align: middle;\n",
       "    }\n",
       "\n",
       "    .dataframe tbody tr th {\n",
       "        vertical-align: top;\n",
       "    }\n",
       "\n",
       "    .dataframe thead th {\n",
       "        text-align: right;\n",
       "    }\n",
       "</style>\n",
       "<table border=\"1\" class=\"dataframe\">\n",
       "  <thead>\n",
       "    <tr style=\"text-align: right;\">\n",
       "      <th></th>\n",
       "      <th>Index</th>\n",
       "      <th>Title</th>\n",
       "      <th>Description</th>\n",
       "      <th>Amount(in rupees)</th>\n",
       "      <th>Price (in rupees)</th>\n",
       "      <th>location</th>\n",
       "      <th>Carpet Area</th>\n",
       "      <th>Status</th>\n",
       "      <th>Floor</th>\n",
       "      <th>Transaction</th>\n",
       "      <th>...</th>\n",
       "      <th>facing</th>\n",
       "      <th>overlooking</th>\n",
       "      <th>Society</th>\n",
       "      <th>Bathroom</th>\n",
       "      <th>Balcony</th>\n",
       "      <th>Car Parking</th>\n",
       "      <th>Ownership</th>\n",
       "      <th>Super Area</th>\n",
       "      <th>Dimensions</th>\n",
       "      <th>Plot Area</th>\n",
       "    </tr>\n",
       "  </thead>\n",
       "  <tbody>\n",
       "    <tr>\n",
       "      <th>187511</th>\n",
       "      <td>187511</td>\n",
       "      <td>4 BHK Ready to Occupy Flat for sale in Savitry...</td>\n",
       "      <td>This exquisite 4 BHK Flat is offered for sale ...</td>\n",
       "      <td>60 Lac</td>\n",
       "      <td>4594.0</td>\n",
       "      <td>zirakpur</td>\n",
       "      <td>NaN</td>\n",
       "      <td>Ready to Move</td>\n",
       "      <td>2 out of 2</td>\n",
       "      <td>Resale</td>\n",
       "      <td>...</td>\n",
       "      <td>East</td>\n",
       "      <td>Garden/Park, Main Road</td>\n",
       "      <td>Savitry Enclave</td>\n",
       "      <td>3</td>\n",
       "      <td>2</td>\n",
       "      <td>1 Open</td>\n",
       "      <td>Freehold</td>\n",
       "      <td>1306 sqft</td>\n",
       "      <td>NaN</td>\n",
       "      <td>NaN</td>\n",
       "    </tr>\n",
       "    <tr>\n",
       "      <th>187512</th>\n",
       "      <td>187512</td>\n",
       "      <td>2 BHK Ready to Occupy Flat for sale in Jaivee ...</td>\n",
       "      <td>Peer Muchalla, Zirakpur has an appealing 2 BHK...</td>\n",
       "      <td>40 Lac</td>\n",
       "      <td>3810.0</td>\n",
       "      <td>zirakpur</td>\n",
       "      <td>950 sqft</td>\n",
       "      <td>Ready to Move</td>\n",
       "      <td>3 out of 3</td>\n",
       "      <td>Resale</td>\n",
       "      <td>...</td>\n",
       "      <td>East</td>\n",
       "      <td>Garden/Park, Main Road</td>\n",
       "      <td>Jaivee Radha Enclave</td>\n",
       "      <td>2</td>\n",
       "      <td>2</td>\n",
       "      <td>NaN</td>\n",
       "      <td>Freehold</td>\n",
       "      <td>NaN</td>\n",
       "      <td>NaN</td>\n",
       "      <td>NaN</td>\n",
       "    </tr>\n",
       "    <tr>\n",
       "      <th>187513</th>\n",
       "      <td>187513</td>\n",
       "      <td>3 BHK Ready to Occupy Flat for sale in Motia C...</td>\n",
       "      <td>This ready to move-in 3 BHK flat is available ...</td>\n",
       "      <td>Call for Price</td>\n",
       "      <td>NaN</td>\n",
       "      <td>zirakpur</td>\n",
       "      <td>1200 sqft</td>\n",
       "      <td>Ready to Move</td>\n",
       "      <td>3 out of 3</td>\n",
       "      <td>Resale</td>\n",
       "      <td>...</td>\n",
       "      <td>NaN</td>\n",
       "      <td>NaN</td>\n",
       "      <td>Motia City</td>\n",
       "      <td>NaN</td>\n",
       "      <td>NaN</td>\n",
       "      <td>2 Covered</td>\n",
       "      <td>NaN</td>\n",
       "      <td>NaN</td>\n",
       "      <td>NaN</td>\n",
       "      <td>NaN</td>\n",
       "    </tr>\n",
       "    <tr>\n",
       "      <th>187514</th>\n",
       "      <td>187514</td>\n",
       "      <td>3 BHK Ready to Occupy Flat for sale Gazipur</td>\n",
       "      <td>This lovely 3 BHK Flat in Gazipur, Zirakpur is...</td>\n",
       "      <td>65 Lac</td>\n",
       "      <td>3939.0</td>\n",
       "      <td>zirakpur</td>\n",
       "      <td>1200 sqft</td>\n",
       "      <td>Ready to Move</td>\n",
       "      <td>1 out of 4</td>\n",
       "      <td>New Property</td>\n",
       "      <td>...</td>\n",
       "      <td>East</td>\n",
       "      <td>Garden/Park</td>\n",
       "      <td>NaN</td>\n",
       "      <td>3</td>\n",
       "      <td>3</td>\n",
       "      <td>1 Covered,</td>\n",
       "      <td>Freehold</td>\n",
       "      <td>NaN</td>\n",
       "      <td>NaN</td>\n",
       "      <td>NaN</td>\n",
       "    </tr>\n",
       "    <tr>\n",
       "      <th>187515</th>\n",
       "      <td>187515</td>\n",
       "      <td>3 BHK Ready to Occupy Flat for sale in Savitry...</td>\n",
       "      <td>This exquisite 3 BHK Flat is offered for sale ...</td>\n",
       "      <td>55 Lac</td>\n",
       "      <td>3868.0</td>\n",
       "      <td>zirakpur</td>\n",
       "      <td>1200 sqft</td>\n",
       "      <td>Ready to Move</td>\n",
       "      <td>2 out of 3</td>\n",
       "      <td>Resale</td>\n",
       "      <td>...</td>\n",
       "      <td>NaN</td>\n",
       "      <td>NaN</td>\n",
       "      <td>Savitry Enclave</td>\n",
       "      <td>3</td>\n",
       "      <td>2</td>\n",
       "      <td>NaN</td>\n",
       "      <td>Freehold</td>\n",
       "      <td>NaN</td>\n",
       "      <td>NaN</td>\n",
       "      <td>NaN</td>\n",
       "    </tr>\n",
       "    <tr>\n",
       "      <th>187516</th>\n",
       "      <td>187516</td>\n",
       "      <td>2 BHK Ready to Occupy Flat for sale Gazipur</td>\n",
       "      <td>This beautiful 2 BHK Flat is available for sal...</td>\n",
       "      <td>29.9 Lac</td>\n",
       "      <td>3322.0</td>\n",
       "      <td>zirakpur</td>\n",
       "      <td>750 sqft</td>\n",
       "      <td>Ready to Move</td>\n",
       "      <td>2 out of 3</td>\n",
       "      <td>New Property</td>\n",
       "      <td>...</td>\n",
       "      <td>North - East</td>\n",
       "      <td>Main Road</td>\n",
       "      <td>NaN</td>\n",
       "      <td>2</td>\n",
       "      <td>2</td>\n",
       "      <td>1 Covered</td>\n",
       "      <td>Freehold</td>\n",
       "      <td>NaN</td>\n",
       "      <td>NaN</td>\n",
       "      <td>NaN</td>\n",
       "    </tr>\n",
       "    <tr>\n",
       "      <th>187517</th>\n",
       "      <td>187517</td>\n",
       "      <td>3 BHK Ready to Occupy Flat for sale in Sushma ...</td>\n",
       "      <td>One can find this stunning 3 BHK flat for sale...</td>\n",
       "      <td>83.5 Lac</td>\n",
       "      <td>4898.0</td>\n",
       "      <td>zirakpur</td>\n",
       "      <td>1195 sqft</td>\n",
       "      <td>Ready to Move</td>\n",
       "      <td>5 out of 9</td>\n",
       "      <td>New Property</td>\n",
       "      <td>...</td>\n",
       "      <td>North - East</td>\n",
       "      <td>Garden/Park, Pool, Main Road</td>\n",
       "      <td>Sushma Crescent</td>\n",
       "      <td>3</td>\n",
       "      <td>3</td>\n",
       "      <td>1 Covered</td>\n",
       "      <td>Freehold</td>\n",
       "      <td>NaN</td>\n",
       "      <td>NaN</td>\n",
       "      <td>NaN</td>\n",
       "    </tr>\n",
       "    <tr>\n",
       "      <th>187518</th>\n",
       "      <td>187518</td>\n",
       "      <td>3 BHK Ready to Occupy Flat for sale in Sushma ...</td>\n",
       "      <td>This ready to move-in 3 BHK flat is available ...</td>\n",
       "      <td>54.9 Lac</td>\n",
       "      <td>3268.0</td>\n",
       "      <td>zirakpur</td>\n",
       "      <td>NaN</td>\n",
       "      <td>Ready to Move</td>\n",
       "      <td>7 out of 8</td>\n",
       "      <td>Resale</td>\n",
       "      <td>...</td>\n",
       "      <td>NaN</td>\n",
       "      <td>Garden/Park, Pool</td>\n",
       "      <td>Sushma Urban Views</td>\n",
       "      <td>2</td>\n",
       "      <td>5</td>\n",
       "      <td>NaN</td>\n",
       "      <td>Freehold</td>\n",
       "      <td>1680 sqft</td>\n",
       "      <td>NaN</td>\n",
       "      <td>NaN</td>\n",
       "    </tr>\n",
       "    <tr>\n",
       "      <th>187519</th>\n",
       "      <td>187519</td>\n",
       "      <td>3 BHK Ready to Occupy Flat for sale Dhakoli</td>\n",
       "      <td>This magnificent 3 BHK Flat is available for s...</td>\n",
       "      <td>37 Lac</td>\n",
       "      <td>4405.0</td>\n",
       "      <td>zirakpur</td>\n",
       "      <td>NaN</td>\n",
       "      <td>Ready to Move</td>\n",
       "      <td>3 out of 4</td>\n",
       "      <td>Resale</td>\n",
       "      <td>...</td>\n",
       "      <td>NaN</td>\n",
       "      <td>NaN</td>\n",
       "      <td>NaN</td>\n",
       "      <td>3</td>\n",
       "      <td>NaN</td>\n",
       "      <td>NaN</td>\n",
       "      <td>NaN</td>\n",
       "      <td>840 sqft</td>\n",
       "      <td>NaN</td>\n",
       "      <td>NaN</td>\n",
       "    </tr>\n",
       "    <tr>\n",
       "      <th>187520</th>\n",
       "      <td>187520</td>\n",
       "      <td>3 BHK Ready to Occupy Flat for sale in Sushma ...</td>\n",
       "      <td>This lovely 3 BHK Flat in Gazipur, Zirakpur is...</td>\n",
       "      <td>78 Lac</td>\n",
       "      <td>4615.0</td>\n",
       "      <td>zirakpur</td>\n",
       "      <td>1352 sqft</td>\n",
       "      <td>Ready to Move</td>\n",
       "      <td>2 out of 12</td>\n",
       "      <td>Resale</td>\n",
       "      <td>...</td>\n",
       "      <td>North</td>\n",
       "      <td>Garden/Park</td>\n",
       "      <td>Sushma Crescent</td>\n",
       "      <td>2</td>\n",
       "      <td>4</td>\n",
       "      <td>1 Open</td>\n",
       "      <td>Freehold</td>\n",
       "      <td>NaN</td>\n",
       "      <td>NaN</td>\n",
       "      <td>NaN</td>\n",
       "    </tr>\n",
       "    <tr>\n",
       "      <th>187521</th>\n",
       "      <td>187521</td>\n",
       "      <td>4 BHK Ready to Occupy Flat for sale Nagla Road</td>\n",
       "      <td>Nagla Road, Zirakpur has an appealing 4 BHK fl...</td>\n",
       "      <td>1.18 Cr</td>\n",
       "      <td>5816.0</td>\n",
       "      <td>zirakpur</td>\n",
       "      <td>NaN</td>\n",
       "      <td>Ready to Move</td>\n",
       "      <td>2 out of 11</td>\n",
       "      <td>Resale</td>\n",
       "      <td>...</td>\n",
       "      <td>NaN</td>\n",
       "      <td>Garden/Park, Main Road</td>\n",
       "      <td>NaN</td>\n",
       "      <td>4</td>\n",
       "      <td>4</td>\n",
       "      <td>NaN</td>\n",
       "      <td>Freehold</td>\n",
       "      <td>2029 sqft</td>\n",
       "      <td>NaN</td>\n",
       "      <td>NaN</td>\n",
       "    </tr>\n",
       "    <tr>\n",
       "      <th>187522</th>\n",
       "      <td>187522</td>\n",
       "      <td>3 BHK Ready to Occupy Flat for sale in GHB Spl...</td>\n",
       "      <td>Up for immediate sale is a 3 BHK apartment in ...</td>\n",
       "      <td>80 Lac</td>\n",
       "      <td>4040.0</td>\n",
       "      <td>zirakpur</td>\n",
       "      <td>1200 sqft</td>\n",
       "      <td>Ready to Move</td>\n",
       "      <td>3 out of 3</td>\n",
       "      <td>Resale</td>\n",
       "      <td>...</td>\n",
       "      <td>East</td>\n",
       "      <td>Garden/Park</td>\n",
       "      <td>GHB Splande</td>\n",
       "      <td>3</td>\n",
       "      <td>3</td>\n",
       "      <td>NaN</td>\n",
       "      <td>Freehold</td>\n",
       "      <td>NaN</td>\n",
       "      <td>NaN</td>\n",
       "      <td>NaN</td>\n",
       "    </tr>\n",
       "    <tr>\n",
       "      <th>187523</th>\n",
       "      <td>187523</td>\n",
       "      <td>5 BHK Ready to Occupy Flat for sale in Orvis G...</td>\n",
       "      <td>This magnificent 5 BHK Flat is available for s...</td>\n",
       "      <td>1.19 Cr</td>\n",
       "      <td>4547.0</td>\n",
       "      <td>zirakpur</td>\n",
       "      <td>1705 sqft</td>\n",
       "      <td>Ready to Move</td>\n",
       "      <td>5 out of 10</td>\n",
       "      <td>Resale</td>\n",
       "      <td>...</td>\n",
       "      <td>North - East</td>\n",
       "      <td>Garden/Park, Pool, Main Road</td>\n",
       "      <td>Orvis Grand</td>\n",
       "      <td>5</td>\n",
       "      <td>3</td>\n",
       "      <td>1 Covered</td>\n",
       "      <td>Freehold</td>\n",
       "      <td>NaN</td>\n",
       "      <td>NaN</td>\n",
       "      <td>NaN</td>\n",
       "    </tr>\n",
       "    <tr>\n",
       "      <th>187524</th>\n",
       "      <td>187524</td>\n",
       "      <td>3 BHK Ready to Occupy Flat for sale in Sushma ...</td>\n",
       "      <td>One can find this stunning 3 BHK flat for sale...</td>\n",
       "      <td>69.6 Lac</td>\n",
       "      <td>5135.0</td>\n",
       "      <td>zirakpur</td>\n",
       "      <td>895 sqft</td>\n",
       "      <td>Ready to Move</td>\n",
       "      <td>5 out of 8</td>\n",
       "      <td>Resale</td>\n",
       "      <td>...</td>\n",
       "      <td>North - East</td>\n",
       "      <td>Garden/Park, Pool, Main Road</td>\n",
       "      <td>Sushma Joynest MOH 1</td>\n",
       "      <td>3</td>\n",
       "      <td>2</td>\n",
       "      <td>1 Covered</td>\n",
       "      <td>Freehold</td>\n",
       "      <td>NaN</td>\n",
       "      <td>NaN</td>\n",
       "      <td>NaN</td>\n",
       "    </tr>\n",
       "    <tr>\n",
       "      <th>187525</th>\n",
       "      <td>187525</td>\n",
       "      <td>3 BHK Ready to Occupy Flat for sale in Peer Mu...</td>\n",
       "      <td>Have a look at this immaculate 3 BHK flat for ...</td>\n",
       "      <td>44.9 Lac</td>\n",
       "      <td>3904.0</td>\n",
       "      <td>zirakpur</td>\n",
       "      <td>1050 sqft</td>\n",
       "      <td>Ready to Move</td>\n",
       "      <td>1 out of 3</td>\n",
       "      <td>New Property</td>\n",
       "      <td>...</td>\n",
       "      <td>North - East</td>\n",
       "      <td>Garden/Park, Main Road</td>\n",
       "      <td>Peer Muchalla Apartments RWF</td>\n",
       "      <td>3</td>\n",
       "      <td>2</td>\n",
       "      <td>NaN</td>\n",
       "      <td>Freehold</td>\n",
       "      <td>NaN</td>\n",
       "      <td>NaN</td>\n",
       "      <td>NaN</td>\n",
       "    </tr>\n",
       "    <tr>\n",
       "      <th>187526</th>\n",
       "      <td>187526</td>\n",
       "      <td>3 BHK Ready to Occupy Flat for sale in Bollywo...</td>\n",
       "      <td>This magnificent 3 BHK Flat is available for s...</td>\n",
       "      <td>63 Lac</td>\n",
       "      <td>3225.0</td>\n",
       "      <td>zirakpur</td>\n",
       "      <td>NaN</td>\n",
       "      <td>Ready to Move</td>\n",
       "      <td>2 out of 4</td>\n",
       "      <td>New Property</td>\n",
       "      <td>...</td>\n",
       "      <td>East</td>\n",
       "      <td>Garden/Park</td>\n",
       "      <td>Bollywood Esencia</td>\n",
       "      <td>3</td>\n",
       "      <td>3</td>\n",
       "      <td>1 Covered</td>\n",
       "      <td>Freehold</td>\n",
       "      <td>1953 sqft</td>\n",
       "      <td>NaN</td>\n",
       "      <td>NaN</td>\n",
       "    </tr>\n",
       "    <tr>\n",
       "      <th>187527</th>\n",
       "      <td>187527</td>\n",
       "      <td>3 BHK Ready to Occupy Flat for sale in Sushma ...</td>\n",
       "      <td>Have a look at this immaculate 3 BHK flat for ...</td>\n",
       "      <td>55 Lac</td>\n",
       "      <td>3274.0</td>\n",
       "      <td>zirakpur</td>\n",
       "      <td>NaN</td>\n",
       "      <td>Ready to Move</td>\n",
       "      <td>4 out of 6</td>\n",
       "      <td>Resale</td>\n",
       "      <td>...</td>\n",
       "      <td>North - East</td>\n",
       "      <td>Garden/Park, Main Road</td>\n",
       "      <td>Sushma Urban Views</td>\n",
       "      <td>3</td>\n",
       "      <td>NaN</td>\n",
       "      <td>1 Covered</td>\n",
       "      <td>NaN</td>\n",
       "      <td>1680 sqft</td>\n",
       "      <td>NaN</td>\n",
       "      <td>NaN</td>\n",
       "    </tr>\n",
       "    <tr>\n",
       "      <th>187528</th>\n",
       "      <td>187528</td>\n",
       "      <td>3 BHK Ready to Occupy Flat for sale in Bollywo...</td>\n",
       "      <td>Gazipur, Zirakpur has an appealing 3 BHK flat ...</td>\n",
       "      <td>76 Lac</td>\n",
       "      <td>4343.0</td>\n",
       "      <td>zirakpur</td>\n",
       "      <td>1250 sqft</td>\n",
       "      <td>Ready to Move</td>\n",
       "      <td>1 out of 3</td>\n",
       "      <td>Resale</td>\n",
       "      <td>...</td>\n",
       "      <td>East</td>\n",
       "      <td>Garden/Park, Main Road</td>\n",
       "      <td>Bollywood Esencia</td>\n",
       "      <td>3</td>\n",
       "      <td>2</td>\n",
       "      <td>1 Covered,</td>\n",
       "      <td>Freehold</td>\n",
       "      <td>NaN</td>\n",
       "      <td>NaN</td>\n",
       "      <td>NaN</td>\n",
       "    </tr>\n",
       "    <tr>\n",
       "      <th>187529</th>\n",
       "      <td>187529</td>\n",
       "      <td>2 BHK Ready to Occupy Flat for sale in Friends...</td>\n",
       "      <td>Up for immediate sale is a 2 BHK apartment in ...</td>\n",
       "      <td>30 Lac</td>\n",
       "      <td>4231.0</td>\n",
       "      <td>zirakpur</td>\n",
       "      <td>NaN</td>\n",
       "      <td>Ready to Move</td>\n",
       "      <td>2 out of 2</td>\n",
       "      <td>Resale</td>\n",
       "      <td>...</td>\n",
       "      <td>NaN</td>\n",
       "      <td>Main Road</td>\n",
       "      <td>Friends Enclave</td>\n",
       "      <td>2</td>\n",
       "      <td>NaN</td>\n",
       "      <td>NaN</td>\n",
       "      <td>NaN</td>\n",
       "      <td>709 sqft</td>\n",
       "      <td>NaN</td>\n",
       "      <td>NaN</td>\n",
       "    </tr>\n",
       "    <tr>\n",
       "      <th>187530</th>\n",
       "      <td>187530</td>\n",
       "      <td>3 BHK Ready to Occupy Flat for sale in Affinit...</td>\n",
       "      <td>This exquisite 3 BHK Flat is offered for sale ...</td>\n",
       "      <td>1.18 Cr</td>\n",
       "      <td>6162.0</td>\n",
       "      <td>zirakpur</td>\n",
       "      <td>NaN</td>\n",
       "      <td>Ready to Move</td>\n",
       "      <td>5 out of 13</td>\n",
       "      <td>Resale</td>\n",
       "      <td>...</td>\n",
       "      <td>North - East</td>\n",
       "      <td>Garden/Park, Pool</td>\n",
       "      <td>Affinity Greens</td>\n",
       "      <td>4</td>\n",
       "      <td>4</td>\n",
       "      <td>1 Covered</td>\n",
       "      <td>Freehold</td>\n",
       "      <td>1915 sqft</td>\n",
       "      <td>NaN</td>\n",
       "      <td>NaN</td>\n",
       "    </tr>\n",
       "  </tbody>\n",
       "</table>\n",
       "<p>20 rows × 21 columns</p>\n",
       "</div>"
      ],
      "text/plain": [
       "         Index                                              Title  \\\n",
       "187511  187511  4 BHK Ready to Occupy Flat for sale in Savitry...   \n",
       "187512  187512  2 BHK Ready to Occupy Flat for sale in Jaivee ...   \n",
       "187513  187513  3 BHK Ready to Occupy Flat for sale in Motia C...   \n",
       "187514  187514        3 BHK Ready to Occupy Flat for sale Gazipur   \n",
       "187515  187515  3 BHK Ready to Occupy Flat for sale in Savitry...   \n",
       "187516  187516        2 BHK Ready to Occupy Flat for sale Gazipur   \n",
       "187517  187517  3 BHK Ready to Occupy Flat for sale in Sushma ...   \n",
       "187518  187518  3 BHK Ready to Occupy Flat for sale in Sushma ...   \n",
       "187519  187519        3 BHK Ready to Occupy Flat for sale Dhakoli   \n",
       "187520  187520  3 BHK Ready to Occupy Flat for sale in Sushma ...   \n",
       "187521  187521     4 BHK Ready to Occupy Flat for sale Nagla Road   \n",
       "187522  187522  3 BHK Ready to Occupy Flat for sale in GHB Spl...   \n",
       "187523  187523  5 BHK Ready to Occupy Flat for sale in Orvis G...   \n",
       "187524  187524  3 BHK Ready to Occupy Flat for sale in Sushma ...   \n",
       "187525  187525  3 BHK Ready to Occupy Flat for sale in Peer Mu...   \n",
       "187526  187526  3 BHK Ready to Occupy Flat for sale in Bollywo...   \n",
       "187527  187527  3 BHK Ready to Occupy Flat for sale in Sushma ...   \n",
       "187528  187528  3 BHK Ready to Occupy Flat for sale in Bollywo...   \n",
       "187529  187529  2 BHK Ready to Occupy Flat for sale in Friends...   \n",
       "187530  187530  3 BHK Ready to Occupy Flat for sale in Affinit...   \n",
       "\n",
       "                                              Description Amount(in rupees)  \\\n",
       "187511  This exquisite 4 BHK Flat is offered for sale ...           60 Lac    \n",
       "187512  Peer Muchalla, Zirakpur has an appealing 2 BHK...           40 Lac    \n",
       "187513  This ready to move-in 3 BHK flat is available ...    Call for Price   \n",
       "187514  This lovely 3 BHK Flat in Gazipur, Zirakpur is...           65 Lac    \n",
       "187515  This exquisite 3 BHK Flat is offered for sale ...           55 Lac    \n",
       "187516  This beautiful 2 BHK Flat is available for sal...         29.9 Lac    \n",
       "187517  One can find this stunning 3 BHK flat for sale...         83.5 Lac    \n",
       "187518  This ready to move-in 3 BHK flat is available ...         54.9 Lac    \n",
       "187519  This magnificent 3 BHK Flat is available for s...           37 Lac    \n",
       "187520  This lovely 3 BHK Flat in Gazipur, Zirakpur is...           78 Lac    \n",
       "187521  Nagla Road, Zirakpur has an appealing 4 BHK fl...          1.18 Cr    \n",
       "187522  Up for immediate sale is a 3 BHK apartment in ...           80 Lac    \n",
       "187523  This magnificent 5 BHK Flat is available for s...          1.19 Cr    \n",
       "187524  One can find this stunning 3 BHK flat for sale...         69.6 Lac    \n",
       "187525  Have a look at this immaculate 3 BHK flat for ...         44.9 Lac    \n",
       "187526  This magnificent 3 BHK Flat is available for s...           63 Lac    \n",
       "187527  Have a look at this immaculate 3 BHK flat for ...           55 Lac    \n",
       "187528  Gazipur, Zirakpur has an appealing 3 BHK flat ...           76 Lac    \n",
       "187529  Up for immediate sale is a 2 BHK apartment in ...           30 Lac    \n",
       "187530  This exquisite 3 BHK Flat is offered for sale ...          1.18 Cr    \n",
       "\n",
       "        Price (in rupees)  location Carpet Area         Status        Floor  \\\n",
       "187511             4594.0  zirakpur         NaN  Ready to Move   2 out of 2   \n",
       "187512             3810.0  zirakpur    950 sqft  Ready to Move   3 out of 3   \n",
       "187513                NaN  zirakpur   1200 sqft  Ready to Move   3 out of 3   \n",
       "187514             3939.0  zirakpur   1200 sqft  Ready to Move   1 out of 4   \n",
       "187515             3868.0  zirakpur   1200 sqft  Ready to Move   2 out of 3   \n",
       "187516             3322.0  zirakpur    750 sqft  Ready to Move   2 out of 3   \n",
       "187517             4898.0  zirakpur   1195 sqft  Ready to Move   5 out of 9   \n",
       "187518             3268.0  zirakpur         NaN  Ready to Move   7 out of 8   \n",
       "187519             4405.0  zirakpur         NaN  Ready to Move   3 out of 4   \n",
       "187520             4615.0  zirakpur   1352 sqft  Ready to Move  2 out of 12   \n",
       "187521             5816.0  zirakpur         NaN  Ready to Move  2 out of 11   \n",
       "187522             4040.0  zirakpur   1200 sqft  Ready to Move   3 out of 3   \n",
       "187523             4547.0  zirakpur   1705 sqft  Ready to Move  5 out of 10   \n",
       "187524             5135.0  zirakpur    895 sqft  Ready to Move   5 out of 8   \n",
       "187525             3904.0  zirakpur   1050 sqft  Ready to Move   1 out of 3   \n",
       "187526             3225.0  zirakpur         NaN  Ready to Move   2 out of 4   \n",
       "187527             3274.0  zirakpur         NaN  Ready to Move   4 out of 6   \n",
       "187528             4343.0  zirakpur   1250 sqft  Ready to Move   1 out of 3   \n",
       "187529             4231.0  zirakpur         NaN  Ready to Move   2 out of 2   \n",
       "187530             6162.0  zirakpur         NaN  Ready to Move  5 out of 13   \n",
       "\n",
       "         Transaction  ...        facing                   overlooking  \\\n",
       "187511        Resale  ...          East        Garden/Park, Main Road   \n",
       "187512        Resale  ...          East        Garden/Park, Main Road   \n",
       "187513        Resale  ...           NaN                           NaN   \n",
       "187514  New Property  ...          East                   Garden/Park   \n",
       "187515        Resale  ...           NaN                           NaN   \n",
       "187516  New Property  ...  North - East                     Main Road   \n",
       "187517  New Property  ...  North - East  Garden/Park, Pool, Main Road   \n",
       "187518        Resale  ...           NaN             Garden/Park, Pool   \n",
       "187519        Resale  ...           NaN                           NaN   \n",
       "187520        Resale  ...         North                   Garden/Park   \n",
       "187521        Resale  ...           NaN        Garden/Park, Main Road   \n",
       "187522        Resale  ...          East                   Garden/Park   \n",
       "187523        Resale  ...  North - East  Garden/Park, Pool, Main Road   \n",
       "187524        Resale  ...  North - East  Garden/Park, Pool, Main Road   \n",
       "187525  New Property  ...  North - East        Garden/Park, Main Road   \n",
       "187526  New Property  ...          East                   Garden/Park   \n",
       "187527        Resale  ...  North - East        Garden/Park, Main Road   \n",
       "187528        Resale  ...          East        Garden/Park, Main Road   \n",
       "187529        Resale  ...           NaN                     Main Road   \n",
       "187530        Resale  ...  North - East             Garden/Park, Pool   \n",
       "\n",
       "                             Society Bathroom Balcony Car Parking Ownership  \\\n",
       "187511               Savitry Enclave        3       2      1 Open  Freehold   \n",
       "187512          Jaivee Radha Enclave        2       2         NaN  Freehold   \n",
       "187513                    Motia City      NaN     NaN   2 Covered       NaN   \n",
       "187514                           NaN        3       3  1 Covered,  Freehold   \n",
       "187515               Savitry Enclave        3       2         NaN  Freehold   \n",
       "187516                           NaN        2       2   1 Covered  Freehold   \n",
       "187517               Sushma Crescent        3       3   1 Covered  Freehold   \n",
       "187518            Sushma Urban Views        2       5         NaN  Freehold   \n",
       "187519                           NaN        3     NaN         NaN       NaN   \n",
       "187520               Sushma Crescent        2       4      1 Open  Freehold   \n",
       "187521                           NaN        4       4         NaN  Freehold   \n",
       "187522                   GHB Splande        3       3         NaN  Freehold   \n",
       "187523                   Orvis Grand        5       3   1 Covered  Freehold   \n",
       "187524          Sushma Joynest MOH 1        3       2   1 Covered  Freehold   \n",
       "187525  Peer Muchalla Apartments RWF        3       2         NaN  Freehold   \n",
       "187526             Bollywood Esencia        3       3   1 Covered  Freehold   \n",
       "187527            Sushma Urban Views        3     NaN   1 Covered       NaN   \n",
       "187528             Bollywood Esencia        3       2  1 Covered,  Freehold   \n",
       "187529               Friends Enclave        2     NaN         NaN       NaN   \n",
       "187530               Affinity Greens        4       4   1 Covered  Freehold   \n",
       "\n",
       "       Super Area Dimensions  Plot Area  \n",
       "187511  1306 sqft        NaN        NaN  \n",
       "187512        NaN        NaN        NaN  \n",
       "187513        NaN        NaN        NaN  \n",
       "187514        NaN        NaN        NaN  \n",
       "187515        NaN        NaN        NaN  \n",
       "187516        NaN        NaN        NaN  \n",
       "187517        NaN        NaN        NaN  \n",
       "187518  1680 sqft        NaN        NaN  \n",
       "187519   840 sqft        NaN        NaN  \n",
       "187520        NaN        NaN        NaN  \n",
       "187521  2029 sqft        NaN        NaN  \n",
       "187522        NaN        NaN        NaN  \n",
       "187523        NaN        NaN        NaN  \n",
       "187524        NaN        NaN        NaN  \n",
       "187525        NaN        NaN        NaN  \n",
       "187526  1953 sqft        NaN        NaN  \n",
       "187527  1680 sqft        NaN        NaN  \n",
       "187528        NaN        NaN        NaN  \n",
       "187529   709 sqft        NaN        NaN  \n",
       "187530  1915 sqft        NaN        NaN  \n",
       "\n",
       "[20 rows x 21 columns]"
      ]
     },
     "execution_count": 4,
     "metadata": {},
     "output_type": "execute_result"
    }
   ],
   "source": [
    "data.tail(20)\n"
   ]
  },
  {
   "cell_type": "code",
   "execution_count": 5,
   "id": "c3b59b64",
   "metadata": {
    "execution": {
     "iopub.execute_input": "2025-07-26T14:07:56.721831Z",
     "iopub.status.busy": "2025-07-26T14:07:56.721187Z",
     "iopub.status.idle": "2025-07-26T14:07:56.762899Z",
     "shell.execute_reply": "2025-07-26T14:07:56.761803Z"
    },
    "papermill": {
     "duration": 0.051882,
     "end_time": "2025-07-26T14:07:56.764246",
     "exception": false,
     "start_time": "2025-07-26T14:07:56.712364",
     "status": "completed"
    },
    "tags": []
   },
   "outputs": [
    {
     "name": "stderr",
     "output_type": "stream",
     "text": [
      "/usr/local/lib/python3.11/dist-packages/pandas/io/formats/format.py:1458: RuntimeWarning: invalid value encountered in greater\n",
      "  has_large_values = (abs_vals > 1e6).any()\n",
      "/usr/local/lib/python3.11/dist-packages/pandas/io/formats/format.py:1459: RuntimeWarning: invalid value encountered in less\n",
      "  has_small_values = ((abs_vals < 10 ** (-self.digits)) & (abs_vals > 0)).any()\n",
      "/usr/local/lib/python3.11/dist-packages/pandas/io/formats/format.py:1459: RuntimeWarning: invalid value encountered in greater\n",
      "  has_small_values = ((abs_vals < 10 ** (-self.digits)) & (abs_vals > 0)).any()\n"
     ]
    },
    {
     "data": {
      "text/html": [
       "<div>\n",
       "<style scoped>\n",
       "    .dataframe tbody tr th:only-of-type {\n",
       "        vertical-align: middle;\n",
       "    }\n",
       "\n",
       "    .dataframe tbody tr th {\n",
       "        vertical-align: top;\n",
       "    }\n",
       "\n",
       "    .dataframe thead th {\n",
       "        text-align: right;\n",
       "    }\n",
       "</style>\n",
       "<table border=\"1\" class=\"dataframe\">\n",
       "  <thead>\n",
       "    <tr style=\"text-align: right;\">\n",
       "      <th></th>\n",
       "      <th>Index</th>\n",
       "      <th>Price (in rupees)</th>\n",
       "      <th>Dimensions</th>\n",
       "      <th>Plot Area</th>\n",
       "    </tr>\n",
       "  </thead>\n",
       "  <tbody>\n",
       "    <tr>\n",
       "      <th>count</th>\n",
       "      <td>187531.000000</td>\n",
       "      <td>1.698660e+05</td>\n",
       "      <td>0.0</td>\n",
       "      <td>0.0</td>\n",
       "    </tr>\n",
       "    <tr>\n",
       "      <th>mean</th>\n",
       "      <td>93765.000000</td>\n",
       "      <td>7.583772e+03</td>\n",
       "      <td>NaN</td>\n",
       "      <td>NaN</td>\n",
       "    </tr>\n",
       "    <tr>\n",
       "      <th>std</th>\n",
       "      <td>54135.681003</td>\n",
       "      <td>2.724171e+04</td>\n",
       "      <td>NaN</td>\n",
       "      <td>NaN</td>\n",
       "    </tr>\n",
       "    <tr>\n",
       "      <th>min</th>\n",
       "      <td>0.000000</td>\n",
       "      <td>0.000000e+00</td>\n",
       "      <td>NaN</td>\n",
       "      <td>NaN</td>\n",
       "    </tr>\n",
       "    <tr>\n",
       "      <th>25%</th>\n",
       "      <td>46882.500000</td>\n",
       "      <td>4.297000e+03</td>\n",
       "      <td>NaN</td>\n",
       "      <td>NaN</td>\n",
       "    </tr>\n",
       "    <tr>\n",
       "      <th>50%</th>\n",
       "      <td>93765.000000</td>\n",
       "      <td>6.034000e+03</td>\n",
       "      <td>NaN</td>\n",
       "      <td>NaN</td>\n",
       "    </tr>\n",
       "    <tr>\n",
       "      <th>75%</th>\n",
       "      <td>140647.500000</td>\n",
       "      <td>9.450000e+03</td>\n",
       "      <td>NaN</td>\n",
       "      <td>NaN</td>\n",
       "    </tr>\n",
       "    <tr>\n",
       "      <th>max</th>\n",
       "      <td>187530.000000</td>\n",
       "      <td>6.700000e+06</td>\n",
       "      <td>NaN</td>\n",
       "      <td>NaN</td>\n",
       "    </tr>\n",
       "  </tbody>\n",
       "</table>\n",
       "</div>"
      ],
      "text/plain": [
       "               Index  Price (in rupees)  Dimensions  Plot Area\n",
       "count  187531.000000       1.698660e+05         0.0        0.0\n",
       "mean    93765.000000       7.583772e+03         NaN        NaN\n",
       "std     54135.681003       2.724171e+04         NaN        NaN\n",
       "min         0.000000       0.000000e+00         NaN        NaN\n",
       "25%     46882.500000       4.297000e+03         NaN        NaN\n",
       "50%     93765.000000       6.034000e+03         NaN        NaN\n",
       "75%    140647.500000       9.450000e+03         NaN        NaN\n",
       "max    187530.000000       6.700000e+06         NaN        NaN"
      ]
     },
     "execution_count": 5,
     "metadata": {},
     "output_type": "execute_result"
    }
   ],
   "source": [
    "data.describe()"
   ]
  },
  {
   "cell_type": "code",
   "execution_count": 6,
   "id": "c5869a6b",
   "metadata": {
    "execution": {
     "iopub.execute_input": "2025-07-26T14:07:56.782226Z",
     "iopub.status.busy": "2025-07-26T14:07:56.781902Z",
     "iopub.status.idle": "2025-07-26T14:07:56.954404Z",
     "shell.execute_reply": "2025-07-26T14:07:56.952944Z"
    },
    "papermill": {
     "duration": 0.183413,
     "end_time": "2025-07-26T14:07:56.956071",
     "exception": false,
     "start_time": "2025-07-26T14:07:56.772658",
     "status": "completed"
    },
    "tags": []
   },
   "outputs": [
    {
     "name": "stdout",
     "output_type": "stream",
     "text": [
      "<class 'pandas.core.frame.DataFrame'>\n",
      "RangeIndex: 187531 entries, 0 to 187530\n",
      "Data columns (total 21 columns):\n",
      " #   Column             Non-Null Count   Dtype  \n",
      "---  ------             --------------   -----  \n",
      " 0   Index              187531 non-null  int64  \n",
      " 1   Title              187531 non-null  object \n",
      " 2   Description        184508 non-null  object \n",
      " 3   Amount(in rupees)  187531 non-null  object \n",
      " 4   Price (in rupees)  169866 non-null  float64\n",
      " 5   location           187531 non-null  object \n",
      " 6   Carpet Area        106858 non-null  object \n",
      " 7   Status             186916 non-null  object \n",
      " 8   Floor              180454 non-null  object \n",
      " 9   Transaction        187448 non-null  object \n",
      " 10  Furnishing         184634 non-null  object \n",
      " 11  facing             117298 non-null  object \n",
      " 12  overlooking        106095 non-null  object \n",
      " 13  Society            77853 non-null   object \n",
      " 14  Bathroom           186703 non-null  object \n",
      " 15  Balcony            138596 non-null  object \n",
      " 16  Car Parking        84174 non-null   object \n",
      " 17  Ownership          122014 non-null  object \n",
      " 18  Super Area         79846 non-null   object \n",
      " 19  Dimensions         0 non-null       float64\n",
      " 20  Plot Area          0 non-null       float64\n",
      "dtypes: float64(3), int64(1), object(17)\n",
      "memory usage: 30.0+ MB\n"
     ]
    }
   ],
   "source": [
    "data.info()"
   ]
  },
  {
   "cell_type": "markdown",
   "id": "c28eb82f",
   "metadata": {
    "papermill": {
     "duration": 0.007926,
     "end_time": "2025-07-26T14:07:56.972603",
     "exception": false,
     "start_time": "2025-07-26T14:07:56.964677",
     "status": "completed"
    },
    "tags": []
   },
   "source": [
    "**There are many missing values in this data set we can use the feature which has fever number of missing values.**"
   ]
  },
  {
   "cell_type": "code",
   "execution_count": 7,
   "id": "00d911d4",
   "metadata": {
    "execution": {
     "iopub.execute_input": "2025-07-26T14:07:56.990515Z",
     "iopub.status.busy": "2025-07-26T14:07:56.990202Z",
     "iopub.status.idle": "2025-07-26T14:07:57.146419Z",
     "shell.execute_reply": "2025-07-26T14:07:57.145247Z"
    },
    "papermill": {
     "duration": 0.166951,
     "end_time": "2025-07-26T14:07:57.147908",
     "exception": false,
     "start_time": "2025-07-26T14:07:56.980957",
     "status": "completed"
    },
    "tags": []
   },
   "outputs": [
    {
     "name": "stdout",
     "output_type": "stream",
     "text": [
      "Index                     0\n",
      "Title                     0\n",
      "Description            3023\n",
      "Amount(in rupees)         0\n",
      "Price (in rupees)     17665\n",
      "location                  0\n",
      "Carpet Area           80673\n",
      "Status                  615\n",
      "Floor                  7077\n",
      "Transaction              83\n",
      "Furnishing             2897\n",
      "facing                70233\n",
      "overlooking           81436\n",
      "Society              109678\n",
      "Bathroom                828\n",
      "Balcony               48935\n",
      "Car Parking          103357\n",
      "Ownership             65517\n",
      "Super Area           107685\n",
      "Dimensions           187531\n",
      "Plot Area            187531\n",
      "dtype: int64\n"
     ]
    }
   ],
   "source": [
    "print(data.isna().sum())  "
   ]
  },
  {
   "cell_type": "markdown",
   "id": "ab887657",
   "metadata": {
    "papermill": {
     "duration": 0.008661,
     "end_time": "2025-07-26T14:07:57.165206",
     "exception": false,
     "start_time": "2025-07-26T14:07:57.156545",
     "status": "completed"
    },
    "tags": []
   },
   "source": [
    "**To better understand the nature of categorical and discrete features, I analyzed the unique values present in several columns.**"
   ]
  },
  {
   "cell_type": "code",
   "execution_count": 8,
   "id": "10f90c1c",
   "metadata": {
    "execution": {
     "iopub.execute_input": "2025-07-26T14:07:57.183754Z",
     "iopub.status.busy": "2025-07-26T14:07:57.183385Z",
     "iopub.status.idle": "2025-07-26T14:07:57.258480Z",
     "shell.execute_reply": "2025-07-26T14:07:57.257601Z"
    },
    "papermill": {
     "duration": 0.086315,
     "end_time": "2025-07-26T14:07:57.260105",
     "exception": false,
     "start_time": "2025-07-26T14:07:57.173790",
     "status": "completed"
    },
    "tags": []
   },
   "outputs": [
    {
     "name": "stdout",
     "output_type": "stream",
     "text": [
      "location:\n",
      "['thane' 'navi-mumbai' 'nagpur' 'mumbai' 'ahmedabad' 'bangalore' 'chennai'\n",
      " 'gurgaon' 'hyderabad' 'indore' 'jaipur' 'kolkata' 'lucknow' 'new-delhi'\n",
      " 'noida' 'pune' 'agra' 'ahmadnagar' 'allahabad' 'aurangabad' 'badlapur'\n",
      " 'belgaum' 'bhiwadi' 'bhiwandi' 'bhopal' 'bhubaneswar' 'chandigarh'\n",
      " 'coimbatore' 'dehradun' 'durgapur' 'ernakulam' 'faridabad' 'ghaziabad'\n",
      " 'goa' 'greater-noida' 'guntur' 'guwahati' 'gwalior' 'haridwar' 'jabalpur'\n",
      " 'jamshedpur' 'jodhpur' 'kalyan' 'kanpur' 'kochi' 'kozhikode' 'ludhiana'\n",
      " 'madurai' 'mangalore' 'mohali' 'mysore' 'nashik' 'navsari' 'nellore'\n",
      " 'palakkad' 'palghar' 'panchkula' 'patna' 'pondicherry' 'raipur'\n",
      " 'rajahmundry' 'ranchi' 'satara' 'shimla' 'siliguri' 'solapur' 'sonipat'\n",
      " 'surat' 'thrissur' 'tirupati' 'trichy' 'trivandrum' 'udaipur' 'udupi'\n",
      " 'vadodara' 'vapi' 'varanasi' 'vijayawada' 'visakhapatnam' 'vrindavan'\n",
      " 'zirakpur']\n",
      "\n",
      "Status:\n",
      "['Ready to Move' nan]\n",
      "\n",
      "Floor:\n",
      "['10 out of 11' '3 out of 22' '10 out of 29' '1 out of 3' '20 out of 42'\n",
      " '2 out of 7' '4 out of 5' 'Ground out of 7' 'Ground out of 2'\n",
      " '3 out of 27' '6 out of 20' '16 out of 24' '8 out of 20' '18 out of 27'\n",
      " '2 out of 3' '10 out of 16' '5 out of 7' '20 out of 28' '3 out of 3'\n",
      " '3 out of 7' '15 out of 31' '2 out of 28' '27 out of 27' '6 out of 7'\n",
      " '5 out of 5' '3 out of 8' '11 out of 17' '9 out of 24' '16 out of 27'\n",
      " '14 out of 29' '12 out of 27' '1 out of 27' '2 out of 4' '16 out of 38'\n",
      " '3 out of 4' '2 out of 17' '12 out of 28' '3 out of 19' '6 out of 28'\n",
      " '1 out of 4' '7 out of 16' '2 out of 2' '1 out of 9' '7 out of 12'\n",
      " '10 out of 10' '4 out of 4' '14 out of 17' '21 out of 27' '5 out of 8'\n",
      " '7 out of 30' '6 out of 18' '14 out of 28' '3 out of 5' '2 out of 24'\n",
      " '1 out of 8' '2 out of 16' '7 out of 7' '4 out of 28' '4 out of 26'\n",
      " '1 out of 17' '20 out of 32' '10 out of 25' '15 out of 17' '8 out of 9'\n",
      " 'Upper Basement out of 9' '8 out of 27' '8 out of 19' '2 out of 8'\n",
      " '15 out of 30' '21 out of 26' '5 out of 12' '3 out of 18' '5 out of 14'\n",
      " '1 out of 29' '5 out of 16' '3 out of 28' '4 out of 20' '1 out of 5' nan\n",
      " '29 out of 29' '10 out of 12' '10 out of 30' '13 out of 26'\n",
      " 'Ground out of 3' '5 out of 28' '2 out of 5' '12 out of 12' '1 out of 6'\n",
      " 'Ground out of 4' '3 out of 20' '7 out of 15' '6 out of 13' '2 out of 29'\n",
      " '4 out of 7' '1 out of 7' '20 out of 35' '13 out of 31' '3 out of 23'\n",
      " '19 out of 19' '11 out of 18' '18 out of 30' '10 out of 20' '2 out of 19'\n",
      " '16 out of 23' '3 out of 30' '8 out of 8' '17 out of 27' '5 out of 6'\n",
      " '11 out of 26' '12 out of 30' '4 out of 6' '1 out of 1' '10 out of 14'\n",
      " '14 out of 32' '15 out of 32' '6 out of 29' '1 out of 20' '28 out of 32'\n",
      " '6 out of 8' '12 out of 21' '14 out of 22' '30 out of 36' '23 out of 32'\n",
      " '25 out of 30' '12 out of 22' '26 out of 27' '9 out of 19' '4 out of 24'\n",
      " '7 out of 8' '4 out of 8' '19 out of 30' '12 out of 19' '10 out of 31'\n",
      " '3 out of 6' '24 out of 32' '21 out of 28' '16 out of 22' '19 out of 24'\n",
      " '7 out of 19' 'Ground out of 5' '14 out of 23' '4 out of 30'\n",
      " '1 out of 14' '7 out of 13' '23 out of 35' '17 out of 18' '2 out of 21'\n",
      " '7 out of 31' '10 out of 18' '20 out of 26' '14 out of 19' '9 out of 16'\n",
      " '8 out of 18' '12 out of 18' '6 out of 21' '8 out of 16' '18 out of 20'\n",
      " '6 out of 40' '5 out of 11' '12 out of 24' '6 out of 16' '1 out of 19'\n",
      " '8 out of 12' '10 out of 28' '19 out of 23' '5 out of 17' '16 out of 17'\n",
      " '17 out of 17' '1 out of 2' '17 out of 32' '15 out of 15' '7 out of 18'\n",
      " '19 out of 36' '13 out of 27' '21 out of 32' '29 out of 30'\n",
      " '16 out of 28' '22 out of 29' '23 out of 24' '4 out of 12' '11 out of 32'\n",
      " '21 out of 24' '16 out of 30' '26 out of 30' '25 out of 36' '7 out of 26'\n",
      " '9 out of 29' '11 out of 29' '8 out of 15' '12 out of 25' '16 out of 32'\n",
      " '2 out of 6' '5 out of 18' '5 out of 13' '14 out of 30' '4 out of 18'\n",
      " '7 out of 14' '9 out of 10' '14 out of 27' '14 out of 16' '9 out of 12'\n",
      " '10 out of 19' '4 out of 23' '16 out of 16' '14 out of 26' '9 out of 17'\n",
      " '8 out of 23' '4 out of 17' 'Ground out of 1' '5 out of 21'\n",
      " '19 out of 20' '4 out of 10' '6 out of 15' '20 out of 29' '6 out of 30'\n",
      " '7 out of 9' '4 out of 16' '21 out of 45' '16 out of 19' '6 out of 12'\n",
      " '19 out of 26' '22 out of 25' '2 out of 10' '6 out of 27' '15 out of 27'\n",
      " '16 out of 26' '13 out of 20' '9 out of 22' '9 out of 18' '3 out of 11'\n",
      " '6 out of 10' '4 out of 15' '3 out of 12' '18 out of 23' '3 out of 13'\n",
      " '10 out of 13' '2 out of 12' '18 out of 28' '2 out of 15' '1 out of 26'\n",
      " 'Ground out of 6' '17 out of 30' '25 out of 27' '8 out of 30'\n",
      " '15 out of 18' '50 out of 50' '7 out of 11' '11 out of 28' '5 out of 9'\n",
      " '20 out of 36' '5 out of 27' '7 out of 22' '5 out of 19' '6 out of 22'\n",
      " '4 out of 22' '1 out of 13' '9 out of 15' '15 out of 20' '13 out of 30'\n",
      " '12 out of 23' '28 out of 30' '10 out of 22' '24 out of 26'\n",
      " '25 out of 32' '16 out of 18' '9 out of 20' '10 out of 27' '15 out of 16'\n",
      " '9 out of 14' '23 out of 27' '27 out of 36' '17 out of 25' '23 out of 28'\n",
      " '12 out of 31' '32 out of 36' '25 out of 29' '12 out of 33' '1 out of 12'\n",
      " '10 out of 26' '3 out of 16' '17 out of 19' '2 out of 27' '13 out of 42'\n",
      " '27 out of 31' '2 out of 14' '7 out of 17' '11 out of 25' '15 out of 28'\n",
      " '13 out of 16' '1 out of 30' '13 out of 32' '5 out of 30' '5 out of 33'\n",
      " '17 out of 29' '11 out of 24' '13 out of 24' '18 out of 24'\n",
      " '13 out of 25' '2 out of 9' 'Ground out of 28' '9 out of 11'\n",
      " '1 out of 16' '8 out of 25' '14 out of 20' '5 out of 22' '2 out of 20'\n",
      " '10 out of 24' '8 out of 28' '10 out of 36' '2 out of 11' '22 out of 33'\n",
      " '8 out of 17' '2 out of 18' '13 out of 14' '3 out of 31' '30 out of 32'\n",
      " '11 out of 19' '19 out of 31' '4 out of 36' '13 out of 34' '6 out of 37'\n",
      " '11 out of 27' '8 out of 36' '1 out of 28' '11 out of 36' '3 out of 15'\n",
      " '6 out of 14' '6 out of 17' '22 out of 24' '9 out of 23' '8 out of 11'\n",
      " '12 out of 29' '4 out of 27' '2 out of 23' '9 out of 21' '8 out of 14'\n",
      " '11 out of 20' '21 out of 23' '15 out of 19' 'Ground out of 8'\n",
      " '22 out of 30' '25 out of 28' '9 out of 13' '20 out of 30' '19 out of 28'\n",
      " '16 out of 21' '30 out of 34' '24 out of 28' '2 out of 31' '12 out of 13'\n",
      " '24 out of 25' '2 out of 22' '26 out of 28' '27 out of 28' '18 out of 29'\n",
      " '8 out of 26' '16 out of 29' '16 out of 20' '17 out of 20' '13 out of 13'\n",
      " 'Ground out of 14' '12 out of 14' '5 out of 15' '9 out of 38'\n",
      " '18 out of 38' '33 out of 36' '15 out of 23' '11 out of 22' '6 out of 6'\n",
      " '7 out of 33' '20 out of 39' '4 out of 13' '9 out of 25' '1 out of 15'\n",
      " '5 out of 23' '9 out of 26' '9 out of 34' '5 out of 34' '20 out of 38'\n",
      " '7 out of 34' '10 out of 34' 'Lower Basement out of 7' '10 out of 15'\n",
      " '11 out of 16' '8 out of 13' '11 out of 14' '14 out of 15' '3 out of 21'\n",
      " '24 out of 29' '13 out of 17' '14 out of 14' '2 out of 40' '18 out of 26'\n",
      " '17 out of 21' '3 out of 25' '20 out of 31' 'Upper Basement out of 7'\n",
      " '15 out of 22' '20 out of 27' '1 out of 18' '9 out of 9'\n",
      " 'Upper Basement out of 4' '22 out of 27' '25 out of 34' '11 out of 13'\n",
      " '10 out of 17' '19 out of 32' '9 out of 28' 'Upper Basement out of 8'\n",
      " '11 out of 15' 'Lower Basement out of 6' '3 out of 14' '2' '2 out of 13'\n",
      " '21 out of 31' '14 out of 31' '4 out of 9' '5 out of 10' '1 out of 10'\n",
      " '7 out of 10' '13 out of 15' '1 out of 88' '4 out of 11' '20 out of 21'\n",
      " '23 out of 30' '8 out of 55' '10 out of 32' '3 out of 45' '9 out of 45'\n",
      " '5 out of 41' '40 out of 51' '7 out of 27' '8 out of 22' '1 out of 23'\n",
      " '7 out of 21' '35 out of 44' '12 out of 20' '20 out of 40' '24 out of 33'\n",
      " '4 out of 19' '10 out of 23' '8 out of 10' '14 out of 24' '25 out of 55'\n",
      " '40 out of 60' '20 out of 20' '20 out of 22' '4 out of 21' '40 out of 54'\n",
      " '5 out of 20' '13 out of 36' '18 out of 18' '21 out of 36' '9 out of 27'\n",
      " '28 out of 60' '28 out of 31' '19 out of 27' '6 out of 9' '26 out of 35'\n",
      " '17 out of 58' '10 out of 21' '12 out of 15' 'Ground out of 12'\n",
      " '22 out of 40' '14 out of 21' '21 out of 25' '15 out of 36'\n",
      " '23 out of 40' '12 out of 16' '20 out of 23' 'Upper Basement out of 10'\n",
      " '23 out of 68' '25 out of 67' '25 out of 41' '11 out of 21'\n",
      " '12 out of 40' '20 out of 56' '42 out of 60' '17 out of 60'\n",
      " '30 out of 30' '63 out of 63' '38 out of 67' '21 out of 30'\n",
      " '34 out of 91' '7 out of 32' '17 out of 52' '28 out of 28' '60 out of 60'\n",
      " '6 out of 26' '17 out of 45' '18 out of 21' '19 out of 42' '31 out of 38'\n",
      " '27 out of 47' '17 out of 24' '31 out of 41' '19 out of 22'\n",
      " '21 out of 21' '11 out of 40' '2 out of 30' '20 out of 48' '14 out of 18'\n",
      " '19 out of 21' '16 out of 36' '18 out of 39' '37 out of 38'\n",
      " '25 out of 37' '11 out of 60' '23 out of 34' '5 out of 55' '20 out of 60'\n",
      " '8 out of 21' '75 out of 91' '18 out of 22' '18 out of 41' '13 out of 22'\n",
      " '33 out of 40' '18 out of 34' '34 out of 36' '26 out of 36'\n",
      " '70 out of 85' '60 out of 78' '4 out of 14' '21 out of 37' '7 out of 20'\n",
      " '3 out of 43' '39 out of 42' '29 out of 38' '9 out of 30' '15 out of 40'\n",
      " '17 out of 37' 'Upper Basement out of 22' '12 out of 35' '11 out of 23'\n",
      " '14 out of 35' '29 out of 36' '15 out of 21' '7 out of 54' '14 out of 39'\n",
      " '15 out of 45' '44 out of 91' '3 out of 10' '32 out of 42' '16 out of 44'\n",
      " '34 out of 53' '16 out of 40' '30 out of 37' '35 out of 77'\n",
      " '21 out of 22' '25 out of 45' '18 out of 35' '29 out of 34'\n",
      " '40 out of 40' '27 out of 54' '5 out of 29' '32 out of 44' '38 out of 91'\n",
      " '2 out of 25' '16 out of 43' '30 out of 43' '34 out of 43' '35 out of 43'\n",
      " '12 out of 43' '7 out of 25' '11 out of 30' '28 out of 56' '46 out of 55'\n",
      " '19 out of 35' '25 out of 40' '18 out of 42' '6 out of 34' '3 out of 9'\n",
      " '16 out of 41' '11 out of 38' '15 out of 38' '15 out of 35'\n",
      " '13 out of 23' '22 out of 22' '28 out of 50' '17 out of 22'\n",
      " '24 out of 52' '5 out of 35' '13 out of 28' 'Upper Basement out of 15'\n",
      " '22 out of 35' '13 out of 54' '6 out of 25' '36 out of 54' '21 out of 39'\n",
      " '20 out of 25' '59 out of 75' '11 out of 12' '21 out of 29'\n",
      " '45 out of 76' '11 out of 51' '12 out of 55' '16 out of 63'\n",
      " '23 out of 41' '13 out of 41' '24 out of 39' '16 out of 39'\n",
      " '12 out of 52' '27 out of 40' '51 out of 78' '30 out of 44'\n",
      " '12 out of 17' '21 out of 38' '4 out of 40' '32 out of 61' '4 out of 32'\n",
      " '30 out of 40' '28 out of 42' '32 out of 68' '8 out of 53' '9 out of 60'\n",
      " '18 out of 25' 'Lower Basement out of 12' '11 out of 11'\n",
      " 'Lower Basement out of 8' '1 out of 11' 'Ground out of 10'\n",
      " 'Lower Basement out of 14' 'Upper Basement out of 14'\n",
      " 'Lower Basement out of 3' '6 out of 11' 'Lower Basement out of 13'\n",
      " 'Lower Basement out of 5' '19 out of 25' '3 out of 17' '13 out of 21'\n",
      " 'Lower Basement out of 11' 'Ground out of 13' '7 out of 23'\n",
      " 'Upper Basement out of 3' '13 out of 18' 'Ground' '3 out of 60'\n",
      " '6 out of 23' 'Ground out of 11' 'Upper Basement out of 5' '12 out of 32'\n",
      " '20 out of 24' '31 out of 31' '19 out of 40' '23 out of 23'\n",
      " '25 out of 26' 'Lower Basement out of 4' '27 out of 32' 'Ground out of 9'\n",
      " '18 out of 19' 'Ground out of 20' '12 out of 37' '6 out of 19'\n",
      " '10 out of 35' '8 out of 24' '9 out of 32' '14 out of 37' '27 out of 30'\n",
      " '1 out of 33' 'Ground out of 15' '15 out of 37' '25 out of 31'\n",
      " 'Ground out of 21' '5 out of 25' '18 out of 32' '17 out of 26'\n",
      " '27 out of 34' '24 out of 30' '1 out of 21' '9 out of 40' '4'\n",
      " '11 out of 34' '2 out of 50' '19 out of 29' '29 out of 32' '21 out of 40'\n",
      " 'Ground out of 19' 'Upper Basement out of 16' '5 out of 32' '1 out of 31'\n",
      " '2 out of 32' '22 out of 32' '29 out of 35' '13 out of 19' '16 out of 25'\n",
      " '17 out of 23' '2 out of 34' '4 out of 29' '1 out of 22'\n",
      " 'Ground out of 18' '5 out of 31' '30 out of 31'\n",
      " 'Upper Basement out of 18' 'Ground out of 40' 'Upper Basement out of 12'\n",
      " '1 out of 25' 'Ground out of 32' '25 out of 25' '15 out of 34'\n",
      " '15 out of 24' '22 out of 23' '17 out of 31' '31 out of 32'\n",
      " 'Ground out of 16' '24 out of 27' '9 out of 35' '22 out of 26'\n",
      " '22 out of 34' '3 out of 26' '10 out of 33' '30 out of 33' '25 out of 44'\n",
      " '5 out of 26' '8 out of 29' '24 out of 38' '24 out of 40' '32 out of 32'\n",
      " '7 out of 28' '29 out of 45' 'Upper Basement out of 11' '31 out of 35'\n",
      " '1' '16 out of 45' 'Upper Basement out of 6' 'Upper Basement out of 2'\n",
      " 'Ground out of 17' '26 out of 29' 'Lower Basement out of 1'\n",
      " '26 out of 45' 'Lower Basement out of 2' '35 out of 35' '27 out of 29'\n",
      " '12 out of 36' '3 out of 42' '3' '22 out of 28' 'Upper Basement out of 1'\n",
      " '28 out of 40' '10 out of 40' 'Lower Basement out of 29' '29 out of 51'\n",
      " '11 out of 33' '3 out of 24' '12 out of 34' '4 out of 38' '15 out of 51'\n",
      " '2 out of 26' '10 out of 42' '8 out of 38' '16 out of 35' '12 out of 26'\n",
      " '4 out of 42' '23 out of 25' '20 out of 43' '4 out of 25' '20 out of 33'\n",
      " '17 out of 51' '6 out of 32' '18 out of 33' '3 out of 32' '10 out of 38'\n",
      " '4 out of 41' '14 out of 43' 'Ground out of 30' '8 out of 31'\n",
      " '20 out of 34' '14 out of 25' '30 out of 35' '23 out of 36'\n",
      " '14 out of 34' '17 out of 33' '24 out of 24' 'Lower Basement out of 10'\n",
      " '34 out of 42' '8 out of 35' '6 out of 42' '7 out of 40' '2 out of 38'\n",
      " '23 out of 33' '19 out of 33' '8 out of 32' '4 out of 34' '13 out of 35'\n",
      " '25 out of 42' '4 out of 39' '16 out of 31' '35 out of 42' '7 out of 24'\n",
      " '8 out of 42' '20 out of 44' '14 out of 36' '9 out of 42' '27 out of 38'\n",
      " '1 out of 40' '32 out of 35' '28 out of 29' '22 out of 37' '9 out of 33'\n",
      " '18 out of 44' 'Lower Basement out of 9' '7 out of 29' '15 out of 25'\n",
      " '5 out of 38' '17 out of 35' '14 out of 38' '22 out of 31' '26 out of 40'\n",
      " '6 out of 31' '23 out of 38' '28 out of 53' '10 out of 39' '4 out of 37'\n",
      " '26 out of 31' '11 out of 31' 'Lower Basement out of 16' '25 out of 35'\n",
      " '7 out of 50' '15 out of 29' '14 out of 40' '11 out of 35'\n",
      " 'Upper Basement out of 29' '5 out of 40' '5 out of 24' '30 out of 51'\n",
      " '22 out of 36' '19 out of 34' '29 out of 33' '24 out of 35'\n",
      " 'Ground out of 24' '19 out of 52' '6 out of 24' '14 out of 42'\n",
      " '4 out of 35' '17 out of 34' '39 out of 39' '33 out of 39' '18 out of 40'\n",
      " '21 out of 35' '15 out of 26' 'Upper Basement out of 20' '26 out of 33'\n",
      " '21 out of 34' 'Upper Basement out of 17' '26 out of 38' '13 out of 40'\n",
      " '31 out of 33' '6 out of 35' 'Lower Basement out of 20'\n",
      " 'Lower Basement out of 50' '38 out of 40' '1 out of 24'\n",
      " 'Ground out of 27' '16 out of 34' 'Ground out of 31' '3 out of 1'\n",
      " '34 out of 34' 'Upper Basement out of 23' '7 out of 35' '3 out of 2'\n",
      " '6 out of 2' '17 out of 36' '2 out of 35' '33 out of 35' '10 out of 45'\n",
      " '32 out of 34' '6 out of 36' '23 out of 45' '3 out of 40' '14 out of 33'\n",
      " '37 out of 46' '27 out of 35' '28 out of 33' '27 out of 33'\n",
      " '45 out of 45' '42 out of 45' '5 out of 44' '20 out of 41' '20 out of 45'\n",
      " '11 out of 45' 'Ground out of 33' '42 out of 43' '32 out of 45'\n",
      " '25 out of 46' '15 out of 42' '38 out of 41' '18 out of 45'\n",
      " '26 out of 34' '7 out of 37' '18 out of 36' '21 out of 43' '28 out of 36'\n",
      " 'Ground out of 25' '4 out of 2' 'Ground out of 26' '17 out of 28'\n",
      " '18 out of 31' '33 out of 72' '29 out of 44' '9 out of 39'\n",
      " 'Ground out of 22' '1 out of 35' 'Ground out of 35' '7 out of 76'\n",
      " '11 out of 84' 'Ground out of 23' '33 out of 44' '24 out of 31'\n",
      " '15 out of 33' '6 out of 45' '32 out of 33' 'Lower Basement out of 23'\n",
      " 'Ground out of 29' '6' 'Upper Basement out of 13' '38 out of 38'\n",
      " '1 out of 150' '2 out of 1' '3 out of 36' '26 out of 43' '7 out of 56'\n",
      " '13' '26 out of 26' '1 out of 34' '28 out of 39' '4 out of 3'\n",
      " '24 out of 36' '2 out of 67' '3 out of 29' '26 out of 32' '12'\n",
      " '23 out of 26' 'Upper Basement out of 21' '20' '23 out of 29'\n",
      " '25 out of 39' '1 out of 32' 'Lower Basement out of 18' '5'\n",
      " 'Upper Basement out of 24' '200 out of 200' '33 out of 43' '35 out of 37'\n",
      " '7 out of 41' 'Lower Basement out of 15' '2 out of 36' 'Lower Basement'\n",
      " '5 out of 50' '7 out of 70']\n",
      "\n",
      "Furnishing:\n",
      "['Unfurnished' 'Semi-Furnished' 'Furnished' nan]\n",
      "\n",
      "facing:\n",
      "[nan 'East' 'West' 'North - East' 'North' 'North - West' 'South'\n",
      " 'South -West' 'South - East']\n",
      "\n",
      "overlooking:\n",
      "[nan 'Garden/Park' 'Garden/Park, Main Road' 'Main Road'\n",
      " 'Pool, Garden/Park, Main Road' 'Garden/Park, Pool, Main Road'\n",
      " 'Garden/Park, Pool' 'Main Road, Garden/Park'\n",
      " 'Main Road, Garden/Park, Pool' 'Pool, Garden/Park' 'Pool'\n",
      " 'Garden/Park, Main Road, Pool' 'Pool, Main Road'\n",
      " 'Main Road, Pool, Garden/Park' 'Pool, Main Road, Garden/Park'\n",
      " 'Main Road, Not Available' 'Main Road, Pool'\n",
      " 'Garden/Park, Pool, Main Road, Not Available'\n",
      " 'Garden/Park, Not Available' 'Pool, Main Road, Not Available']\n",
      "\n",
      "Bathroom:\n",
      "['1' '2' '3' '4' '6' nan '5' '10' '9' '8' '> 10' '7']\n",
      "\n",
      "Balcony:\n",
      "['2' nan '1' '3' '4' '> 10' '6' '5' '7' '10' '8' '9']\n",
      "\n",
      "Car Parking:\n",
      "[nan '1 Open' '1 Covered' '2 Covered' '66 Covered' '701 Covered'\n",
      " '3 Covered' '1 Covered,' '35 Open' '4 Open' '323 Covered' '4 Covered,'\n",
      " '11 Covered' '103 Open' '203 Covered' '2 Open' '180 Covered' '14 Open'\n",
      " '50 Open' '10 Covered' '15 Open' '5 Open' '7 Covered' '4 Covered'\n",
      " '509 Covered,' '6 Covered' '101 Covered' '5 Covered,' '6 Covered,'\n",
      " '3 Covered,' '123 Covered' '505 Covered' '402 Covered' '8 Covered'\n",
      " '5 Covered' '2 Covered,' '103 Covered' '12 Covered,' '202 Open'\n",
      " '202 Covered' '20 Covered,' '503 Open' '401 Covered' '3 Open'\n",
      " '501 Covered' '10 Covered,' '147 Covered' '20 Covered' '310 Covered'\n",
      " '204 Covered' '313 Covered' '302 Covered' '442 Covered' '23 Covered'\n",
      " '201 Covered,' '8 Open' '112 Covered' '14 Covered' '706 Covered'\n",
      " '107 Covered' '120 Covered' '250 Covered' '255 Covered' '11 Open'\n",
      " '217 Covered' '12 Covered' '621 Covered' '309 Covered' '536 Covered'\n",
      " '601 Covered' '15 Covered' '54 Covered' '20 Open' '10 Open' '403 Open'\n",
      " '53 Open' '24 Covered' '33 Covered' '12 Open' '500 Open' '9 Covered,'\n",
      " '89 Open' '604 Covered' '87 Covered' '903 Covered' '704 Covered'\n",
      " '30 Covered,' '39 Covered' '34 Covered' '306 Covered' '218 Covered'\n",
      " '305 Covered' '502 Covered' '406 Open' '102 Covered' '129 Open'\n",
      " '201 Covered' '15 Covered,' '76 Covered' '413 Covered' '100 Covered'\n",
      " '324 Covered' '300 Covered' '25 Covered' '21 Covered,' '301 Covered'\n",
      " '118 Open' '818 Open' '113 Open' '411 Covered' '999 Open' '9 Covered'\n",
      " '17 Covered' '999 Covered' '42 Covered' '118 Covered' '571 Open'\n",
      " '253 Covered' '51 Covered' '212 Open' '259 Covered' '31 Open' '210 Open'\n",
      " '22 Covered' '256 Covered' '50 Covered' '8 Covered,' '32 Open'\n",
      " '428 Covered' '7 Covered,' '703 Covered' '507 Covered' '605 Covered'\n",
      " '801 Covered' '205 Open' '40 Covered' '701 Open' '151 Open' '40 Open'\n",
      " '30 Covered' '804 Open' '16 Covered,' '102 Open' '9 Open' '45 Open'\n",
      " '30 Open' '200 Open' '47 Open' '67 Open' '78 Covered' '653 Open'\n",
      " '215 Covered' '109 Covered' '504 Open' '222 Covered' '23 Open' '221 Open'\n",
      " '204 Open' '303 Covered' '18 Covered' '17 Open' '156 Covered' '123 Open'\n",
      " '835 Covered' '60 Open' '45 Covered' '13 Covered,' '13 Open' '52 Open'\n",
      " '27 Covered,' '98 Covered' '6 Open' '23 Covered,' '22 Open' '21 Covered'\n",
      " '908 Covered' '808 Open' '510 Covered' '506 Covered' '111 Covered'\n",
      " '234 Covered' '129 Covered' '59 Covered' '506 Open' '901 Covered'\n",
      " '420 Covered' '408 Covered' '60 Covered' '38 Covered' '90 Covered,'\n",
      " '13 Covered' '604 Open' '18 Open' '196 Open' '211 Covered' '110 Open'\n",
      " '702 Covered' '100 Open' '302 Open' '174 Open' '80 Covered' '40 Covered,'\n",
      " '305 Open' '233 Open' '35 Covered,' '35 Covered' '24 Open' '406 Covered'\n",
      " '48 Covered' '16 Covered' '108 Covered' '70 Open' '125 Open'\n",
      " '503 Covered' '31 Covered' '110 Covered' '404 Covered' '7 Open'\n",
      " '303 Open' '101 Open' '304 Covered' '207 Covered' '206 Covered'\n",
      " '104 Covered' '416 Covered' '205 Covered' '300 Open' '11 Covered,'\n",
      " '403 Covered' '702 Open']\n",
      "\n",
      "Ownership:\n",
      "[nan 'Freehold' 'Co-operative Society' 'Power Of Attorney' 'Leasehold']\n",
      "\n"
     ]
    }
   ],
   "source": [
    "a=[\"location\",\"Status\",\"Floor\",\"Furnishing\",\"facing\",\"overlooking\",\"Bathroom\",\"Balcony\",\"Car Parking\",\"Ownership\"]\n",
    "for cat in a :\n",
    "    print(f\"{cat}:\\n{data[cat].unique()}\\n\")\n"
   ]
  },
  {
   "cell_type": "code",
   "execution_count": 9,
   "id": "b007e25b",
   "metadata": {
    "execution": {
     "iopub.execute_input": "2025-07-26T14:07:57.284651Z",
     "iopub.status.busy": "2025-07-26T14:07:57.284334Z",
     "iopub.status.idle": "2025-07-26T14:07:57.289367Z",
     "shell.execute_reply": "2025-07-26T14:07:57.288300Z"
    },
    "papermill": {
     "duration": 0.01662,
     "end_time": "2025-07-26T14:07:57.291321",
     "exception": false,
     "start_time": "2025-07-26T14:07:57.274701",
     "status": "completed"
    },
    "tags": []
   },
   "outputs": [],
   "source": [
    "import re"
   ]
  },
  {
   "cell_type": "markdown",
   "id": "195f512d",
   "metadata": {
    "papermill": {
     "duration": 0.008797,
     "end_time": "2025-07-26T14:07:57.309338",
     "exception": false,
     "start_time": "2025-07-26T14:07:57.300541",
     "status": "completed"
    },
    "tags": []
   },
   "source": [
    "**Since the ‘Title’ column includes BHK information, a key factor affecting house price, we can extract and convert it into a numerical feature for better model performance.**"
   ]
  },
  {
   "cell_type": "code",
   "execution_count": 10,
   "id": "32c23b04",
   "metadata": {
    "execution": {
     "iopub.execute_input": "2025-07-26T14:07:57.328874Z",
     "iopub.status.busy": "2025-07-26T14:07:57.328056Z",
     "iopub.status.idle": "2025-07-26T14:07:57.660495Z",
     "shell.execute_reply": "2025-07-26T14:07:57.659571Z"
    },
    "papermill": {
     "duration": 0.343908,
     "end_time": "2025-07-26T14:07:57.662228",
     "exception": false,
     "start_time": "2025-07-26T14:07:57.318320",
     "status": "completed"
    },
    "tags": []
   },
   "outputs": [],
   "source": [
    "data[\"Title\"]=data[\"Title\"].apply(\n",
    "    lambda x: int(re.search(r'(\\d+)\\s*BHK', x).group(1)) \n",
    "    if re.search(r'(\\d+)\\s*BHK', x) \n",
    "    else None\n",
    ")\n"
   ]
  },
  {
   "cell_type": "markdown",
   "id": "71c1bb79",
   "metadata": {
    "papermill": {
     "duration": 0.008473,
     "end_time": "2025-07-26T14:07:57.679728",
     "exception": false,
     "start_time": "2025-07-26T14:07:57.671255",
     "status": "completed"
    },
    "tags": []
   },
   "source": [
    "**We can fill the missing values in the ‘Title’ column with 2, as most of the houses are 2 BHK. Using 2 instead of 0 avoids introducing significant distortion, since 0 BHK is unrealistic and would negatively affect the model.**"
   ]
  },
  {
   "cell_type": "code",
   "execution_count": 11,
   "id": "ff20d169",
   "metadata": {
    "execution": {
     "iopub.execute_input": "2025-07-26T14:07:57.762016Z",
     "iopub.status.busy": "2025-07-26T14:07:57.761074Z",
     "iopub.status.idle": "2025-07-26T14:07:57.779942Z",
     "shell.execute_reply": "2025-07-26T14:07:57.778645Z"
    },
    "papermill": {
     "duration": 0.093209,
     "end_time": "2025-07-26T14:07:57.781580",
     "exception": false,
     "start_time": "2025-07-26T14:07:57.688371",
     "status": "completed"
    },
    "tags": []
   },
   "outputs": [
    {
     "name": "stdout",
     "output_type": "stream",
     "text": [
      "0\n",
      "[ 1.  2.  3.  4.  5.  6.  8.  7. 10.  9.]\n",
      "Title\n",
      "3.0     80848\n",
      "2.0     76429\n",
      "4.0     16600\n",
      "1.0     12284\n",
      "5.0      1183\n",
      "6.0        98\n",
      "10.0       43\n",
      "7.0        22\n",
      "8.0        17\n",
      "9.0         7\n",
      "Name: count, dtype: int64\n",
      "0\n"
     ]
    }
   ],
   "source": [
    "data[\"Title\"]=data[\"Title\"].fillna(2)\n",
    "print(data[\"Title\"].isnull().sum())\n",
    "print(data[\"Title\"].unique())\n",
    "print(data['Title'].value_counts())\n",
    "print(data[\"Title\"].isnull().sum())"
   ]
  },
  {
   "cell_type": "markdown",
   "id": "422b1234",
   "metadata": {
    "papermill": {
     "duration": 0.008709,
     "end_time": "2025-07-26T14:07:57.799521",
     "exception": false,
     "start_time": "2025-07-26T14:07:57.790812",
     "status": "completed"
    },
    "tags": []
   },
   "source": [
    "**We convert house price values written in words (e.g., ‘50 Lakhs’, ‘1.2 Crores’) into their corresponding numerical format (e.g., 5000000, 12000000) to enable accurate processing and modeling.**"
   ]
  },
  {
   "cell_type": "code",
   "execution_count": 12,
   "id": "705a1f2c",
   "metadata": {
    "execution": {
     "iopub.execute_input": "2025-07-26T14:07:57.818677Z",
     "iopub.status.busy": "2025-07-26T14:07:57.818350Z",
     "iopub.status.idle": "2025-07-26T14:07:57.931420Z",
     "shell.execute_reply": "2025-07-26T14:07:57.930492Z"
    },
    "papermill": {
     "duration": 0.12491,
     "end_time": "2025-07-26T14:07:57.933274",
     "exception": false,
     "start_time": "2025-07-26T14:07:57.808364",
     "status": "completed"
    },
    "tags": []
   },
   "outputs": [],
   "source": [
    "def convert_amount(value):\n",
    "    try:\n",
    "        value = str(value).strip()\n",
    "        if 'Cr' in value:\n",
    "            return float(value.replace('Cr', '').strip()) * 1e7\n",
    "        elif 'Lac' in value:\n",
    "            return float(value.replace('Lac', '').strip()) * 1e5\n",
    "        elif value.replace('.', '', 1).isdigit():\n",
    "            return float(value)\n",
    "        else:\n",
    "            return None  # For cases like 'Call for Price'\n",
    "    except:\n",
    "        return None\n",
    "\n",
    "\n",
    "data['Amount(in rupees)'] = data['Amount(in rupees)'].apply(convert_amount)\n"
   ]
  },
  {
   "cell_type": "code",
   "execution_count": 13,
   "id": "a4ebbee2",
   "metadata": {
    "execution": {
     "iopub.execute_input": "2025-07-26T14:07:57.953365Z",
     "iopub.status.busy": "2025-07-26T14:07:57.953034Z",
     "iopub.status.idle": "2025-07-26T14:07:57.958627Z",
     "shell.execute_reply": "2025-07-26T14:07:57.957612Z"
    },
    "papermill": {
     "duration": 0.017285,
     "end_time": "2025-07-26T14:07:57.960232",
     "exception": false,
     "start_time": "2025-07-26T14:07:57.942947",
     "status": "completed"
    },
    "tags": []
   },
   "outputs": [],
   "source": [
    "data['Amount(in rupees)'] = data['Amount(in rupees)'].replace('Call for Price', np.nan)"
   ]
  },
  {
   "cell_type": "code",
   "execution_count": 14,
   "id": "797cb99a",
   "metadata": {
    "execution": {
     "iopub.execute_input": "2025-07-26T14:07:57.979685Z",
     "iopub.status.busy": "2025-07-26T14:07:57.979386Z",
     "iopub.status.idle": "2025-07-26T14:07:57.983446Z",
     "shell.execute_reply": "2025-07-26T14:07:57.982728Z"
    },
    "papermill": {
     "duration": 0.015275,
     "end_time": "2025-07-26T14:07:57.984843",
     "exception": false,
     "start_time": "2025-07-26T14:07:57.969568",
     "status": "completed"
    },
    "tags": []
   },
   "outputs": [],
   "source": [
    "pd.set_option('display.float_format', '{:,.0f}'.format)"
   ]
  },
  {
   "cell_type": "code",
   "execution_count": 15,
   "id": "1eab9172",
   "metadata": {
    "execution": {
     "iopub.execute_input": "2025-07-26T14:07:58.004385Z",
     "iopub.status.busy": "2025-07-26T14:07:58.004058Z",
     "iopub.status.idle": "2025-07-26T14:07:58.016122Z",
     "shell.execute_reply": "2025-07-26T14:07:58.015031Z"
    },
    "papermill": {
     "duration": 0.023443,
     "end_time": "2025-07-26T14:07:58.017555",
     "exception": false,
     "start_time": "2025-07-26T14:07:57.994112",
     "status": "completed"
    },
    "tags": []
   },
   "outputs": [
    {
     "name": "stdout",
     "output_type": "stream",
     "text": [
      "Title\n",
      "1      3,531,214\n",
      "2      6,219,479\n",
      "3     13,784,577\n",
      "4     30,646,983\n",
      "5     46,354,768\n",
      "6     70,386,957\n",
      "7     56,895,238\n",
      "8    208,985,000\n",
      "9     36,357,143\n",
      "10    86,305,128\n",
      "Name: Amount(in rupees), dtype: float64\n"
     ]
    }
   ],
   "source": [
    "print(data.groupby(\"Title\")[\"Amount(in rupees)\"].mean())\n",
    "\n"
   ]
  },
  {
   "cell_type": "markdown",
   "id": "71fbcf02",
   "metadata": {
    "papermill": {
     "duration": 0.008689,
     "end_time": "2025-07-26T14:07:58.035579",
     "exception": false,
     "start_time": "2025-07-26T14:07:58.026890",
     "status": "completed"
    },
    "tags": []
   },
   "source": [
    "**Here, I am replacing the missing price values with the average amount of houses having the same BHK. This helps in estimating a price closer to the actual value.**"
   ]
  },
  {
   "cell_type": "code",
   "execution_count": 16,
   "id": "b79616a0",
   "metadata": {
    "execution": {
     "iopub.execute_input": "2025-07-26T14:07:58.054594Z",
     "iopub.status.busy": "2025-07-26T14:07:58.054289Z",
     "iopub.status.idle": "2025-07-26T14:07:58.065745Z",
     "shell.execute_reply": "2025-07-26T14:07:58.064991Z"
    },
    "papermill": {
     "duration": 0.022686,
     "end_time": "2025-07-26T14:07:58.067271",
     "exception": false,
     "start_time": "2025-07-26T14:07:58.044585",
     "status": "completed"
    },
    "tags": []
   },
   "outputs": [],
   "source": [
    "data[\"Amount(in rupees)\"] = data[\"Amount(in rupees)\"].fillna(\n",
    "    data.groupby(\"Title\")[\"Amount(in rupees)\"].transform(\"mean\")\n",
    ")"
   ]
  },
  {
   "cell_type": "code",
   "execution_count": 17,
   "id": "c7a29517",
   "metadata": {
    "execution": {
     "iopub.execute_input": "2025-07-26T14:07:58.086703Z",
     "iopub.status.busy": "2025-07-26T14:07:58.086406Z",
     "iopub.status.idle": "2025-07-26T14:07:58.091886Z",
     "shell.execute_reply": "2025-07-26T14:07:58.091013Z"
    },
    "papermill": {
     "duration": 0.016638,
     "end_time": "2025-07-26T14:07:58.093197",
     "exception": false,
     "start_time": "2025-07-26T14:07:58.076559",
     "status": "completed"
    },
    "tags": []
   },
   "outputs": [
    {
     "name": "stdout",
     "output_type": "stream",
     "text": [
      "0\n"
     ]
    }
   ],
   "source": [
    "print(data[\"Amount(in rupees)\"].isnull().sum())"
   ]
  },
  {
   "cell_type": "markdown",
   "id": "6bb71f5f",
   "metadata": {
    "papermill": {
     "duration": 0.008887,
     "end_time": "2025-07-26T14:07:58.111230",
     "exception": false,
     "start_time": "2025-07-26T14:07:58.102343",
     "status": "completed"
    },
    "tags": []
   },
   "source": [
    "\n",
    "**Here, I am replacing the missing values in the ‘location’ column by using the average house price for each location. First, I calculate the average price per location using groupby. Then I map this average to the ‘location’ column. Finally, if any values are still missing, I fill them with the overall average price.Since the ‘location’ column contains many unique place names, using one-hot encoding would create a large number of features, which may lead to overfitting and increase the model complexity. Therefore, replacing the location with its corresponding average house price is a better approach in this case, as it helps convert categorical data into meaningful numerical values while keeping the feature space compact and avoiding overfitting.**\n"
   ]
  },
  {
   "cell_type": "code",
   "execution_count": 18,
   "id": "b0bc92e1",
   "metadata": {
    "execution": {
     "iopub.execute_input": "2025-07-26T14:07:58.131006Z",
     "iopub.status.busy": "2025-07-26T14:07:58.130274Z",
     "iopub.status.idle": "2025-07-26T14:07:58.161427Z",
     "shell.execute_reply": "2025-07-26T14:07:58.160595Z"
    },
    "papermill": {
     "duration": 0.042654,
     "end_time": "2025-07-26T14:07:58.162947",
     "exception": false,
     "start_time": "2025-07-26T14:07:58.120293",
     "status": "completed"
    },
    "tags": []
   },
   "outputs": [
    {
     "data": {
      "text/plain": [
       "0        9,623,260\n",
       "1        9,623,260\n",
       "2        9,623,260\n",
       "3        9,623,260\n",
       "4        9,623,260\n",
       "            ...   \n",
       "187526   6,988,955\n",
       "187527   6,988,955\n",
       "187528   6,988,955\n",
       "187529   6,988,955\n",
       "187530   6,988,955\n",
       "Name: location, Length: 187531, dtype: float64"
      ]
     },
     "execution_count": 18,
     "metadata": {},
     "output_type": "execute_result"
    }
   ],
   "source": [
    "city_avg_price = data.groupby('location')['Amount(in rupees)'].mean()\n",
    "data['location'] = data['location'].map(city_avg_price)\n",
    "data['location'].fillna(data['location'].mean())"
   ]
  },
  {
   "cell_type": "code",
   "execution_count": 19,
   "id": "56b2d6eb",
   "metadata": {
    "execution": {
     "iopub.execute_input": "2025-07-26T14:07:58.182741Z",
     "iopub.status.busy": "2025-07-26T14:07:58.182415Z",
     "iopub.status.idle": "2025-07-26T14:07:58.188020Z",
     "shell.execute_reply": "2025-07-26T14:07:58.187082Z"
    },
    "papermill": {
     "duration": 0.016992,
     "end_time": "2025-07-26T14:07:58.189300",
     "exception": false,
     "start_time": "2025-07-26T14:07:58.172308",
     "status": "completed"
    },
    "tags": []
   },
   "outputs": [
    {
     "name": "stdout",
     "output_type": "stream",
     "text": [
      "0\n"
     ]
    }
   ],
   "source": [
    "print(data[\"location\"].isnull().sum())"
   ]
  },
  {
   "cell_type": "code",
   "execution_count": 20,
   "id": "e36ce813",
   "metadata": {
    "execution": {
     "iopub.execute_input": "2025-07-26T14:07:58.209592Z",
     "iopub.status.busy": "2025-07-26T14:07:58.209232Z",
     "iopub.status.idle": "2025-07-26T14:07:58.361250Z",
     "shell.execute_reply": "2025-07-26T14:07:58.359912Z"
    },
    "papermill": {
     "duration": 0.164042,
     "end_time": "2025-07-26T14:07:58.362822",
     "exception": false,
     "start_time": "2025-07-26T14:07:58.198780",
     "status": "completed"
    },
    "tags": []
   },
   "outputs": [
    {
     "name": "stdout",
     "output_type": "stream",
     "text": [
      "Missing Carpet Area values: 0\n"
     ]
    }
   ],
   "source": [
    "data[\"Carpet Area\"] = data[\"Carpet Area\"].str.replace(\"sqft\", \"\", regex=False).str.strip()\n",
    "data[\"Carpet Area\"] = pd.to_numeric(data[\"Carpet Area\"], errors=\"coerce\")\n",
    "\n",
    "\n",
    "data[\"Carpet Area\"] = data[\"Carpet Area\"].fillna(\n",
    "    data.groupby(\"Title\")[\"Carpet Area\"].transform(\"mean\")\n",
    ")\n",
    "\n",
    "data[\"Carpet Area\"]=data[\"Carpet Area\"].fillna(data[\"Carpet Area\"].mean())\n",
    "print(\"Missing Carpet Area values:\", data[\"Carpet Area\"].isnull().sum())"
   ]
  },
  {
   "cell_type": "markdown",
   "id": "175afcb1",
   "metadata": {
    "papermill": {
     "duration": 0.009281,
     "end_time": "2025-07-26T14:07:58.382443",
     "exception": false,
     "start_time": "2025-07-26T14:07:58.373162",
     "status": "completed"
    },
    "tags": []
   },
   "source": [
    "**In this step, we convert the textual floor information, such as “14 out of 38” or “Ground out of 10”, into a normalized numerical value between 0 and 1 to make it suitable for machine learning models. The transformation begins by splitting each floor entry into two parts: the current floor level and the total number of floors in the building. For cases where the current floor is described using non-numeric labels like “Ground”, “Upper Basement”, or “Lower Basement”, we treat them as floor number 0. Once both the floor number and total floors are extracted and converted to integers, we calculate the normalized floor position by dividing the current floor number by the total number of floors. This results in a value that represents the relative height of the property within the building. If any error occurs during parsing, we assign a NaN value, which is later replaced with 0, assuming it refers to a ground-level or basement unit. This approach ensures that all floor information is numerically consistent and scaled, enhancing the model’s ability to learn from this feature.**"
   ]
  },
  {
   "cell_type": "code",
   "execution_count": 21,
   "id": "38c52c9d",
   "metadata": {
    "execution": {
     "iopub.execute_input": "2025-07-26T14:07:58.403901Z",
     "iopub.status.busy": "2025-07-26T14:07:58.403520Z",
     "iopub.status.idle": "2025-07-26T14:07:58.615762Z",
     "shell.execute_reply": "2025-07-26T14:07:58.614862Z"
    },
    "papermill": {
     "duration": 0.224722,
     "end_time": "2025-07-26T14:07:58.617465",
     "exception": false,
     "start_time": "2025-07-26T14:07:58.392743",
     "status": "completed"
    },
    "tags": []
   },
   "outputs": [
    {
     "name": "stdout",
     "output_type": "stream",
     "text": [
      "0   1\n",
      "1   0\n",
      "2   0\n",
      "3   0\n",
      "4   0\n",
      "Name: Floor, dtype: float64\n",
      "[0.90909091 0.13636364 0.34482759 0.33333333 0.47619048 0.28571429\n",
      " 0.8        0.         0.11111111 0.3        0.66666667 0.4\n",
      " 0.625      0.71428571 1.         0.42857143 0.48387097 0.07142857\n",
      " 0.85714286 0.375      0.64705882 0.59259259 0.48275862 0.44444444\n",
      " 0.03703704 0.5        0.42105263 0.75       0.11764706 0.15789474\n",
      " 0.21428571 0.25       0.4375     0.58333333 0.82352941 0.77777778\n",
      " 0.23333333 0.6        0.08333333 0.125      0.14285714 0.15384615\n",
      " 0.05882353 0.88235294 0.88888889 0.2962963  0.80769231 0.41666667\n",
      " 0.16666667 0.35714286 0.03448276 0.3125     0.10714286 0.2\n",
      " 0.83333333 0.17857143 0.15       0.46666667 0.46153846 0.06896552\n",
      " 0.57142857 0.41935484 0.13043478 0.61111111 0.10526316 0.69565217\n",
      " 0.1        0.62962963 0.42307692 0.46875    0.20689655 0.05\n",
      " 0.875      0.63636364 0.71875    0.54545455 0.96296296 0.47368421\n",
      " 0.63333333 0.63157895 0.32258065 0.72727273 0.79166667 0.36842105\n",
      " 0.60869565 0.13333333 0.53846154 0.65714286 0.94444444 0.0952381\n",
      " 0.22580645 0.55555556 0.76923077 0.73684211 0.5625     0.9\n",
      " 0.45454545 0.05263158 0.82608696 0.29411765 0.94117647 0.53125\n",
      " 0.38888889 0.52777778 0.48148148 0.65625    0.96666667 0.75862069\n",
      " 0.95833333 0.34375    0.53333333 0.86666667 0.69444444 0.26923077\n",
      " 0.31034483 0.37931034 0.48       0.27777778 0.38461538 0.22222222\n",
      " 0.51851852 0.52631579 0.17391304 0.52941176 0.34782609 0.23529412\n",
      " 0.23809524 0.95       0.68965517 0.84210526 0.73076923 0.88\n",
      " 0.61538462 0.65       0.40909091 0.27272727 0.26666667 0.7826087\n",
      " 0.23076923 0.64285714 0.03846154 0.56666667 0.92592593 0.39285714\n",
      " 0.18518519 0.31818182 0.26315789 0.18181818 0.07692308 0.43333333\n",
      " 0.52173913 0.93333333 0.92307692 0.78125    0.45       0.37037037\n",
      " 0.9375     0.85185185 0.68       0.82142857 0.38709677 0.86206897\n",
      " 0.36363636 0.1875     0.89473684 0.07407407 0.30952381 0.87096774\n",
      " 0.41176471 0.44       0.53571429 0.8125     0.03333333 0.40625\n",
      " 0.15151515 0.5862069  0.45833333 0.54166667 0.52       0.81818182\n",
      " 0.0625     0.32       0.7        0.22727273 0.47058824 0.92857143\n",
      " 0.09677419 0.57894737 0.61290323 0.38235294 0.16216216 0.40740741\n",
      " 0.03571429 0.30555556 0.35294118 0.91666667 0.39130435 0.4137931\n",
      " 0.14814815 0.08695652 0.55       0.91304348 0.78947368 0.73333333\n",
      " 0.89285714 0.69230769 0.67857143 0.76190476 0.06451613 0.96\n",
      " 0.09090909 0.96428571 0.62068966 0.30769231 0.55172414 0.85\n",
      " 0.23684211 0.65217391 0.21212121 0.51282051 0.36       0.06666667\n",
      " 0.2173913  0.34615385 0.26470588 0.14705882 0.20588235 0.6875\n",
      " 0.78571429 0.82758621 0.76470588 0.80952381 0.12       0.64516129\n",
      " 0.68181818 0.74074074 0.05555556 0.81481481 0.73529412 0.84615385\n",
      " 0.58823529 0.59375    0.32142857 0.67741935 0.4516129  0.01136364\n",
      " 0.95238095 0.76666667 0.14545455 0.12195122 0.78431373 0.25925926\n",
      " 0.04347826 0.79545455 0.21052632 0.43478261 0.19047619 0.36111111\n",
      " 0.90322581 0.7037037  0.74285714 0.29310345 0.84       0.575\n",
      " 0.86956522 0.33823529 0.37313433 0.6097561  0.52380952 0.28333333\n",
      " 0.56716418 0.37362637 0.21875    0.32692308 0.37777778 0.45238095\n",
      " 0.81578947 0.57446809 0.70833333 0.75609756 0.86363636 0.275\n",
      " 0.9047619  0.97368421 0.67567568 0.18333333 0.67647059 0.38095238\n",
      " 0.82417582 0.43902439 0.59090909 0.825      0.72222222 0.56756757\n",
      " 0.35       0.06976744 0.76315789 0.45945946 0.34285714 0.47826087\n",
      " 0.80555556 0.12962963 0.35897436 0.48351648 0.64150943 0.81081081\n",
      " 0.95454545 0.51428571 0.85294118 0.17241379 0.41758242 0.08\n",
      " 0.37209302 0.69767442 0.79069767 0.81395349 0.27906977 0.28\n",
      " 0.36666667 0.83636364 0.54285714 0.17647059 0.3902439  0.28947368\n",
      " 0.39473684 0.56521739 0.56       0.77272727 0.46428571 0.62857143\n",
      " 0.24074074 0.24       0.78666667 0.72413793 0.59210526 0.21568627\n",
      " 0.21818182 0.25396825 0.56097561 0.31707317 0.41025641 0.675\n",
      " 0.65384615 0.70588235 0.55263158 0.52459016 0.1509434  0.72\n",
      " 0.76       0.61904762 0.30434783 0.26086957 0.475      0.96153846\n",
      " 0.84375    0.94736842 0.32432432 0.31578947 0.28125    0.37837838\n",
      " 0.03030303 0.40540541 0.80645161 0.79411765 0.04761905 0.225\n",
      " 0.32352941 0.04       0.65517241 0.90625    0.525      0.15625\n",
      " 0.03225806 0.82857143 0.68421053 0.64       0.73913043 0.13793103\n",
      " 0.04545455 0.16129032 0.96774194 0.44117647 0.95652174 0.5483871\n",
      " 0.96875    0.25714286 0.11538462 0.3030303  0.56818182 0.19230769\n",
      " 0.27586207 0.64444444 0.88571429 0.35555556 0.89655172 0.57777778\n",
      " 0.93103448 0.56862745 0.45714286 0.92       0.46511628 0.16\n",
      " 0.60606061 0.09375    0.09756098 0.3255814  0.25806452 0.63888889\n",
      " 0.51515152 0.22857143 0.175      0.6969697  0.57575758 0.37142857\n",
      " 0.5952381  0.1025641  0.51612903 0.29166667 0.71052632 0.025\n",
      " 0.91428571 0.96551724 0.59459459 0.24137931 0.13157895 0.48571429\n",
      " 0.70967742 0.19354839 0.60526316 0.52830189 0.25641026 0.10810811\n",
      " 0.83870968 0.35483871 0.14       0.51724138 0.31428571 0.20833333\n",
      " 0.55882353 0.87878788 0.68571429 0.36538462 0.11428571 0.57692308\n",
      " 0.78787879 0.61764706 0.325      0.93939394 0.17142857 0.04166667\n",
      " 0.47222222 0.05714286 0.94285714 0.51111111 0.075      0.42424242\n",
      " 0.80434783 0.77142857 0.84848485 0.11363636 0.48780488 0.24444444\n",
      " 0.97674419 0.71111111 0.54347826 0.92682927 0.18918919 0.48837209\n",
      " 0.60714286 0.58064516 0.65909091 0.02857143 0.09210526 0.13095238\n",
      " 0.77419355 0.96969697 0.00666667 0.60465116 0.02941176 0.71794872\n",
      " 0.02985075 0.10344828 0.88461538 0.79310345 0.64102564 0.03125\n",
      " 0.76744186 0.94594595 0.17073171]\n",
      "Missing Floor values: 0\n"
     ]
    }
   ],
   "source": [
    "def convert_floor(value):\n",
    "    try:\n",
    "        parts = value.strip().split(\" out of \")\n",
    "        floor_part = parts[0].strip().lower()\n",
    "        total_floors = int(parts[1])\n",
    "\n",
    "       \n",
    "        if \"ground\" in floor_part:\n",
    "            floor_num = 0\n",
    "        elif \"upper basement\" in floor_part:\n",
    "            floor_num = 0\n",
    "        elif \"lower basement\" in floor_part:\n",
    "            floor_num = 0\n",
    "        else:\n",
    "            floor_num = int(floor_part)\n",
    "\n",
    "        \n",
    "        normalized_value = floor_num / total_floors\n",
    "        return max(0, min(normalized_value, 1))  # clamp to [0, 1]\n",
    "    except:\n",
    "        return np.nan  # Invalid data fallback\n",
    "\n",
    "\n",
    "data[\"Floor\"] = data[\"Floor\"].apply(convert_floor)\n",
    "data[\"Floor\"] = data[\"Floor\"].fillna(0)\n",
    "\n",
    "print(data[\"Floor\"].head())\n",
    "print(data[\"Floor\"].unique())\n",
    "\n",
    "print(\"Missing Floor values:\", data[\"Floor\"].isnull().sum())"
   ]
  },
  {
   "cell_type": "code",
   "execution_count": 22,
   "id": "63afed96",
   "metadata": {
    "execution": {
     "iopub.execute_input": "2025-07-26T14:07:58.638324Z",
     "iopub.status.busy": "2025-07-26T14:07:58.637955Z",
     "iopub.status.idle": "2025-07-26T14:07:58.839814Z",
     "shell.execute_reply": "2025-07-26T14:07:58.838999Z"
    },
    "papermill": {
     "duration": 0.214051,
     "end_time": "2025-07-26T14:07:58.841383",
     "exception": false,
     "start_time": "2025-07-26T14:07:58.627332",
     "status": "completed"
    },
    "tags": []
   },
   "outputs": [],
   "source": [
    "data['Furnishing'] = data['Furnishing'].fillna('Unknown')\n",
    "data['facing'] = data['facing'].fillna('Unknown')\n",
    "\n",
    "\n",
    "data = pd.get_dummies(data, columns=['Furnishing', 'facing'], prefix=['Furnish', 'Face'])"
   ]
  },
  {
   "cell_type": "code",
   "execution_count": 23,
   "id": "c0dc3e54",
   "metadata": {
    "execution": {
     "iopub.execute_input": "2025-07-26T14:07:58.861681Z",
     "iopub.status.busy": "2025-07-26T14:07:58.861375Z",
     "iopub.status.idle": "2025-07-26T14:07:58.971114Z",
     "shell.execute_reply": "2025-07-26T14:07:58.969858Z"
    },
    "papermill": {
     "duration": 0.121683,
     "end_time": "2025-07-26T14:07:58.972653",
     "exception": false,
     "start_time": "2025-07-26T14:07:58.850970",
     "status": "completed"
    },
    "tags": []
   },
   "outputs": [
    {
     "name": "stdout",
     "output_type": "stream",
     "text": [
      "<class 'pandas.core.frame.DataFrame'>\n",
      "RangeIndex: 187531 entries, 0 to 187530\n",
      "Data columns (total 32 columns):\n",
      " #   Column                  Non-Null Count   Dtype  \n",
      "---  ------                  --------------   -----  \n",
      " 0   Index                   187531 non-null  int64  \n",
      " 1   Title                   187531 non-null  float64\n",
      " 2   Description             184508 non-null  object \n",
      " 3   Amount(in rupees)       187531 non-null  float64\n",
      " 4   Price (in rupees)       169866 non-null  float64\n",
      " 5   location                187531 non-null  float64\n",
      " 6   Carpet Area             187531 non-null  float64\n",
      " 7   Status                  186916 non-null  object \n",
      " 8   Floor                   187531 non-null  float64\n",
      " 9   Transaction             187448 non-null  object \n",
      " 10  overlooking             106095 non-null  object \n",
      " 11  Society                 77853 non-null   object \n",
      " 12  Bathroom                186703 non-null  object \n",
      " 13  Balcony                 138596 non-null  object \n",
      " 14  Car Parking             84174 non-null   object \n",
      " 15  Ownership               122014 non-null  object \n",
      " 16  Super Area              79846 non-null   object \n",
      " 17  Dimensions              0 non-null       float64\n",
      " 18  Plot Area               0 non-null       float64\n",
      " 19  Furnish_Furnished       187531 non-null  bool   \n",
      " 20  Furnish_Semi-Furnished  187531 non-null  bool   \n",
      " 21  Furnish_Unfurnished     187531 non-null  bool   \n",
      " 22  Furnish_Unknown         187531 non-null  bool   \n",
      " 23  Face_East               187531 non-null  bool   \n",
      " 24  Face_North              187531 non-null  bool   \n",
      " 25  Face_North - East       187531 non-null  bool   \n",
      " 26  Face_North - West       187531 non-null  bool   \n",
      " 27  Face_South              187531 non-null  bool   \n",
      " 28  Face_South - East       187531 non-null  bool   \n",
      " 29  Face_South -West        187531 non-null  bool   \n",
      " 30  Face_Unknown            187531 non-null  bool   \n",
      " 31  Face_West               187531 non-null  bool   \n",
      "dtypes: bool(13), float64(8), int64(1), object(10)\n",
      "memory usage: 29.5+ MB\n"
     ]
    }
   ],
   "source": [
    "data.info()"
   ]
  },
  {
   "cell_type": "code",
   "execution_count": 24,
   "id": "668fa712",
   "metadata": {
    "execution": {
     "iopub.execute_input": "2025-07-26T14:07:58.994461Z",
     "iopub.status.busy": "2025-07-26T14:07:58.994122Z",
     "iopub.status.idle": "2025-07-26T14:07:59.571285Z",
     "shell.execute_reply": "2025-07-26T14:07:59.570471Z"
    },
    "papermill": {
     "duration": 0.590123,
     "end_time": "2025-07-26T14:07:59.572878",
     "exception": false,
     "start_time": "2025-07-26T14:07:58.982755",
     "status": "completed"
    },
    "tags": []
   },
   "outputs": [],
   "source": [
    "\n",
    "data['overlooking'] = data['overlooking'].fillna('')\n",
    "\n",
    "data['overlooking'] = data['overlooking'].apply(lambda x: [i.strip() for i in x.split(',')] if x else [])\n",
    "\n",
    "from sklearn.preprocessing import MultiLabelBinarizer\n",
    "mlb = MultiLabelBinarizer()\n",
    "overlook_encoded = pd.DataFrame(mlb.fit_transform(data['overlooking']), columns=['Overlook_' + c for c in mlb.classes_])\n",
    "\n",
    "data = pd.concat([data.drop(columns=['overlooking']), overlook_encoded], axis=1)"
   ]
  },
  {
   "cell_type": "code",
   "execution_count": 25,
   "id": "6de5c723",
   "metadata": {
    "execution": {
     "iopub.execute_input": "2025-07-26T14:07:59.593702Z",
     "iopub.status.busy": "2025-07-26T14:07:59.593387Z",
     "iopub.status.idle": "2025-07-26T14:07:59.698854Z",
     "shell.execute_reply": "2025-07-26T14:07:59.697992Z"
    },
    "papermill": {
     "duration": 0.117296,
     "end_time": "2025-07-26T14:07:59.700374",
     "exception": false,
     "start_time": "2025-07-26T14:07:59.583078",
     "status": "completed"
    },
    "tags": []
   },
   "outputs": [],
   "source": [
    "data['Bathroom'] = data['Bathroom'].replace('> 10', '11')\n",
    "data['Bathroom'] = pd.to_numeric(data['Bathroom'], errors='coerce')\n",
    "data['Bathroom']=data['Bathroom'].fillna(data['Bathroom'].median())"
   ]
  },
  {
   "cell_type": "code",
   "execution_count": 26,
   "id": "b3c70416",
   "metadata": {
    "execution": {
     "iopub.execute_input": "2025-07-26T14:07:59.721809Z",
     "iopub.status.busy": "2025-07-26T14:07:59.721437Z",
     "iopub.status.idle": "2025-07-26T14:07:59.812179Z",
     "shell.execute_reply": "2025-07-26T14:07:59.811137Z"
    },
    "papermill": {
     "duration": 0.103446,
     "end_time": "2025-07-26T14:07:59.814106",
     "exception": false,
     "start_time": "2025-07-26T14:07:59.710660",
     "status": "completed"
    },
    "tags": []
   },
   "outputs": [],
   "source": [
    "data['Balcony'] = data['Balcony'].replace('> 10', '11')\n",
    "data['Balcony'] = pd.to_numeric(data['Balcony'], errors='coerce')\n",
    "data['Balcony']=data['Balcony'].fillna(data['Balcony'].median())"
   ]
  },
  {
   "cell_type": "code",
   "execution_count": 27,
   "id": "ce358cb4",
   "metadata": {
    "execution": {
     "iopub.execute_input": "2025-07-26T14:07:59.838369Z",
     "iopub.status.busy": "2025-07-26T14:07:59.838038Z",
     "iopub.status.idle": "2025-07-26T14:08:00.000665Z",
     "shell.execute_reply": "2025-07-26T14:07:59.999336Z"
    },
    "papermill": {
     "duration": 0.176983,
     "end_time": "2025-07-26T14:08:00.002397",
     "exception": false,
     "start_time": "2025-07-26T14:07:59.825414",
     "status": "completed"
    },
    "tags": []
   },
   "outputs": [],
   "source": [
    "def extract_parking_num(x):\n",
    "    if pd.isna(x):\n",
    "        return None\n",
    "    x = str(x) \n",
    "    match = re.search(r'\\d+', x)\n",
    "    return int(match.group()) if match else None\n",
    "\n",
    "data['Car Parking'] = data['Car Parking'].apply(extract_parking_num)\n",
    "data['Car Parking'] = data['Car Parking'].fillna(data['Car Parking'].median())"
   ]
  },
  {
   "cell_type": "code",
   "execution_count": 28,
   "id": "99194c20",
   "metadata": {
    "execution": {
     "iopub.execute_input": "2025-07-26T14:08:00.024102Z",
     "iopub.status.busy": "2025-07-26T14:08:00.023768Z",
     "iopub.status.idle": "2025-07-26T14:08:00.136775Z",
     "shell.execute_reply": "2025-07-26T14:08:00.135847Z"
    },
    "papermill": {
     "duration": 0.125642,
     "end_time": "2025-07-26T14:08:00.138477",
     "exception": false,
     "start_time": "2025-07-26T14:08:00.012835",
     "status": "completed"
    },
    "tags": []
   },
   "outputs": [],
   "source": [
    "data['Ownership'].fillna('Unknown')\n",
    "data = pd.get_dummies(data, columns=['Ownership'], prefix='Owner')"
   ]
  },
  {
   "cell_type": "code",
   "execution_count": 29,
   "id": "9697d4ad",
   "metadata": {
    "execution": {
     "iopub.execute_input": "2025-07-26T14:08:00.159331Z",
     "iopub.status.busy": "2025-07-26T14:08:00.159025Z",
     "iopub.status.idle": "2025-07-26T14:08:00.231027Z",
     "shell.execute_reply": "2025-07-26T14:08:00.230014Z"
    },
    "papermill": {
     "duration": 0.084617,
     "end_time": "2025-07-26T14:08:00.232912",
     "exception": false,
     "start_time": "2025-07-26T14:08:00.148295",
     "status": "completed"
    },
    "tags": []
   },
   "outputs": [
    {
     "name": "stdout",
     "output_type": "stream",
     "text": [
      "<class 'pandas.core.frame.DataFrame'>\n",
      "RangeIndex: 187531 entries, 0 to 187530\n",
      "Data columns (total 38 columns):\n",
      " #   Column                      Non-Null Count   Dtype  \n",
      "---  ------                      --------------   -----  \n",
      " 0   Index                       187531 non-null  int64  \n",
      " 1   Title                       187531 non-null  float64\n",
      " 2   Description                 184508 non-null  object \n",
      " 3   Amount(in rupees)           187531 non-null  float64\n",
      " 4   Price (in rupees)           169866 non-null  float64\n",
      " 5   location                    187531 non-null  float64\n",
      " 6   Carpet Area                 187531 non-null  float64\n",
      " 7   Status                      186916 non-null  object \n",
      " 8   Floor                       187531 non-null  float64\n",
      " 9   Transaction                 187448 non-null  object \n",
      " 10  Society                     77853 non-null   object \n",
      " 11  Bathroom                    187531 non-null  float64\n",
      " 12  Balcony                     187531 non-null  float64\n",
      " 13  Car Parking                 187531 non-null  float64\n",
      " 14  Super Area                  79846 non-null   object \n",
      " 15  Dimensions                  0 non-null       float64\n",
      " 16  Plot Area                   0 non-null       float64\n",
      " 17  Furnish_Furnished           187531 non-null  bool   \n",
      " 18  Furnish_Semi-Furnished      187531 non-null  bool   \n",
      " 19  Furnish_Unfurnished         187531 non-null  bool   \n",
      " 20  Furnish_Unknown             187531 non-null  bool   \n",
      " 21  Face_East                   187531 non-null  bool   \n",
      " 22  Face_North                  187531 non-null  bool   \n",
      " 23  Face_North - East           187531 non-null  bool   \n",
      " 24  Face_North - West           187531 non-null  bool   \n",
      " 25  Face_South                  187531 non-null  bool   \n",
      " 26  Face_South - East           187531 non-null  bool   \n",
      " 27  Face_South -West            187531 non-null  bool   \n",
      " 28  Face_Unknown                187531 non-null  bool   \n",
      " 29  Face_West                   187531 non-null  bool   \n",
      " 30  Overlook_Garden/Park        187531 non-null  int64  \n",
      " 31  Overlook_Main Road          187531 non-null  int64  \n",
      " 32  Overlook_Not Available      187531 non-null  int64  \n",
      " 33  Overlook_Pool               187531 non-null  int64  \n",
      " 34  Owner_Co-operative Society  187531 non-null  bool   \n",
      " 35  Owner_Freehold              187531 non-null  bool   \n",
      " 36  Owner_Leasehold             187531 non-null  bool   \n",
      " 37  Owner_Power Of Attorney     187531 non-null  bool   \n",
      "dtypes: bool(17), float64(11), int64(5), object(5)\n",
      "memory usage: 33.1+ MB\n"
     ]
    }
   ],
   "source": [
    "data.info()"
   ]
  },
  {
   "cell_type": "code",
   "execution_count": 30,
   "id": "6d031814",
   "metadata": {
    "execution": {
     "iopub.execute_input": "2025-07-26T14:08:00.253682Z",
     "iopub.status.busy": "2025-07-26T14:08:00.253393Z",
     "iopub.status.idle": "2025-07-26T14:08:00.264787Z",
     "shell.execute_reply": "2025-07-26T14:08:00.263424Z"
    },
    "papermill": {
     "duration": 0.023678,
     "end_time": "2025-07-26T14:08:00.266447",
     "exception": false,
     "start_time": "2025-07-26T14:08:00.242769",
     "status": "completed"
    },
    "tags": []
   },
   "outputs": [],
   "source": [
    "\n",
    "feature_columns = [\n",
    "    'Title',\n",
    "    'Carpet Area',\n",
    "    'Floor',\n",
    "    'Bathroom',\n",
    "    'Balcony',\n",
    "    'Car Parking',\n",
    "    'Furnish_Furnished',\n",
    "    'Furnish_Semi-Furnished',\n",
    "    'Furnish_Unfurnished',\n",
    "    'Furnish_Unknown',\n",
    "    'Face_East',\n",
    "    'Face_North',\n",
    "    'Face_North - East',\n",
    "    'Face_North - West',\n",
    "    'Face_South',\n",
    "    'Face_South - East',\n",
    "    'Face_South -West',\n",
    "    'Face_Unknown',\n",
    "    'Face_West',\n",
    "    'Overlook_Garden/Park',\n",
    "    'Overlook_Main Road',\n",
    "    'Overlook_Not Available',\n",
    "    'Overlook_Pool',\n",
    "    'Owner_Co-operative Society',\n",
    "    'Owner_Freehold',\n",
    "    'Owner_Leasehold',\n",
    "    'Owner_Power Of Attorney'\n",
    "]\n",
    "\n",
    "\n",
    "x_data = data[feature_columns]\n",
    "y_data = data['Amount(in rupees)']"
   ]
  },
  {
   "cell_type": "code",
   "execution_count": 31,
   "id": "af7797b3",
   "metadata": {
    "execution": {
     "iopub.execute_input": "2025-07-26T14:08:00.288264Z",
     "iopub.status.busy": "2025-07-26T14:08:00.287553Z",
     "iopub.status.idle": "2025-07-26T14:08:00.313305Z",
     "shell.execute_reply": "2025-07-26T14:08:00.312289Z"
    },
    "papermill": {
     "duration": 0.038744,
     "end_time": "2025-07-26T14:08:00.315127",
     "exception": false,
     "start_time": "2025-07-26T14:08:00.276383",
     "status": "completed"
    },
    "tags": []
   },
   "outputs": [
    {
     "name": "stdout",
     "output_type": "stream",
     "text": [
      "<class 'pandas.core.frame.DataFrame'>\n",
      "RangeIndex: 187531 entries, 0 to 187530\n",
      "Data columns (total 27 columns):\n",
      " #   Column                      Non-Null Count   Dtype  \n",
      "---  ------                      --------------   -----  \n",
      " 0   Title                       187531 non-null  float64\n",
      " 1   Carpet Area                 187531 non-null  float64\n",
      " 2   Floor                       187531 non-null  float64\n",
      " 3   Bathroom                    187531 non-null  float64\n",
      " 4   Balcony                     187531 non-null  float64\n",
      " 5   Car Parking                 187531 non-null  float64\n",
      " 6   Furnish_Furnished           187531 non-null  bool   \n",
      " 7   Furnish_Semi-Furnished      187531 non-null  bool   \n",
      " 8   Furnish_Unfurnished         187531 non-null  bool   \n",
      " 9   Furnish_Unknown             187531 non-null  bool   \n",
      " 10  Face_East                   187531 non-null  bool   \n",
      " 11  Face_North                  187531 non-null  bool   \n",
      " 12  Face_North - East           187531 non-null  bool   \n",
      " 13  Face_North - West           187531 non-null  bool   \n",
      " 14  Face_South                  187531 non-null  bool   \n",
      " 15  Face_South - East           187531 non-null  bool   \n",
      " 16  Face_South -West            187531 non-null  bool   \n",
      " 17  Face_Unknown                187531 non-null  bool   \n",
      " 18  Face_West                   187531 non-null  bool   \n",
      " 19  Overlook_Garden/Park        187531 non-null  int64  \n",
      " 20  Overlook_Main Road          187531 non-null  int64  \n",
      " 21  Overlook_Not Available      187531 non-null  int64  \n",
      " 22  Overlook_Pool               187531 non-null  int64  \n",
      " 23  Owner_Co-operative Society  187531 non-null  bool   \n",
      " 24  Owner_Freehold              187531 non-null  bool   \n",
      " 25  Owner_Leasehold             187531 non-null  bool   \n",
      " 26  Owner_Power Of Attorney     187531 non-null  bool   \n",
      "dtypes: bool(17), float64(6), int64(4)\n",
      "memory usage: 17.3 MB\n",
      "None\n",
      "<class 'pandas.core.series.Series'>\n",
      "RangeIndex: 187531 entries, 0 to 187530\n",
      "Series name: Amount(in rupees)\n",
      "Non-Null Count   Dtype  \n",
      "--------------   -----  \n",
      "187531 non-null  float64\n",
      "dtypes: float64(1)\n",
      "memory usage: 1.4 MB\n",
      "None\n"
     ]
    }
   ],
   "source": [
    "print(x_data.info())\n",
    "print(y_data.info())"
   ]
  },
  {
   "cell_type": "code",
   "execution_count": 32,
   "id": "a92051af",
   "metadata": {
    "execution": {
     "iopub.execute_input": "2025-07-26T14:08:00.335907Z",
     "iopub.status.busy": "2025-07-26T14:08:00.335564Z",
     "iopub.status.idle": "2025-07-26T14:08:00.383724Z",
     "shell.execute_reply": "2025-07-26T14:08:00.382862Z"
    },
    "papermill": {
     "duration": 0.060411,
     "end_time": "2025-07-26T14:08:00.385358",
     "exception": false,
     "start_time": "2025-07-26T14:08:00.324947",
     "status": "completed"
    },
    "tags": []
   },
   "outputs": [],
   "source": [
    "X_train,X_test,y_train,y_test=train_test_split(x_data,y_data,test_size=0.2,random_state=34)\n",
    "X_train= X_train.astype(int)\n",
    "X_test=X_test.astype(int)\n",
    "y_train=y_train.astype(int)\n",
    "y_test=y_test.astype(int)"
   ]
  },
  {
   "cell_type": "code",
   "execution_count": 33,
   "id": "4050a121",
   "metadata": {
    "execution": {
     "iopub.execute_input": "2025-07-26T14:08:00.407161Z",
     "iopub.status.busy": "2025-07-26T14:08:00.406850Z",
     "iopub.status.idle": "2025-07-26T14:08:00.422231Z",
     "shell.execute_reply": "2025-07-26T14:08:00.421190Z"
    },
    "papermill": {
     "duration": 0.028657,
     "end_time": "2025-07-26T14:08:00.424420",
     "exception": false,
     "start_time": "2025-07-26T14:08:00.395763",
     "status": "completed"
    },
    "tags": []
   },
   "outputs": [
    {
     "name": "stdout",
     "output_type": "stream",
     "text": [
      "        Title  Carpet Area  Floor  Bathroom  Balcony  Car Parking  \\\n",
      "136353      3         1250      0         2        1            1   \n",
      "137839      3         1760      0         4        3            1   \n",
      "128582      1          416      0         1        1            1   \n",
      "2887        2          500      0         2        1            1   \n",
      "7912        3         1388      0         3        3            1   \n",
      "\n",
      "        Furnish_Furnished  Furnish_Semi-Furnished  Furnish_Unfurnished  \\\n",
      "136353                  0                       1                    0   \n",
      "137839                  0                       1                    0   \n",
      "128582                  0                       0                    1   \n",
      "2887                    0                       0                    1   \n",
      "7912                    0                       0                    1   \n",
      "\n",
      "        Furnish_Unknown  ...  Face_Unknown  Face_West  Overlook_Garden/Park  \\\n",
      "136353                0  ...             0          0                     0   \n",
      "137839                0  ...             0          0                     1   \n",
      "128582                0  ...             0          0                     0   \n",
      "2887                  0  ...             0          0                     1   \n",
      "7912                  0  ...             1          0                     1   \n",
      "\n",
      "        Overlook_Main Road  Overlook_Not Available  Overlook_Pool  \\\n",
      "136353                   0                       0              0   \n",
      "137839                   1                       0              0   \n",
      "128582                   0                       0              0   \n",
      "2887                     1                       0              0   \n",
      "7912                     1                       0              0   \n",
      "\n",
      "        Owner_Co-operative Society  Owner_Freehold  Owner_Leasehold  \\\n",
      "136353                           0               1                0   \n",
      "137839                           0               1                0   \n",
      "128582                           0               1                0   \n",
      "2887                             0               1                0   \n",
      "7912                             0               1                0   \n",
      "\n",
      "        Owner_Power Of Attorney  \n",
      "136353                        0  \n",
      "137839                        0  \n",
      "128582                        0  \n",
      "2887                          0  \n",
      "7912                          0  \n",
      "\n",
      "[5 rows x 27 columns]\n",
      "        Title  Carpet Area  Floor  Bathroom  Balcony  Car Parking  \\\n",
      "27086       3         1388      0         3        2            1   \n",
      "31195       2          847      0         2        2            1   \n",
      "88192       3         1388      0         3        3            1   \n",
      "160254      3         1388      0         2        1            1   \n",
      "76278       2          847      0         2        2            1   \n",
      "\n",
      "        Furnish_Furnished  Furnish_Semi-Furnished  Furnish_Unfurnished  \\\n",
      "27086                   0                       0                    1   \n",
      "31195                   0                       1                    0   \n",
      "88192                   0                       1                    0   \n",
      "160254                  0                       0                    1   \n",
      "76278                   0                       1                    0   \n",
      "\n",
      "        Furnish_Unknown  ...  Face_Unknown  Face_West  Overlook_Garden/Park  \\\n",
      "27086                 0  ...             0          0                     1   \n",
      "31195                 0  ...             1          0                     0   \n",
      "88192                 0  ...             0          0                     0   \n",
      "160254                0  ...             0          0                     0   \n",
      "76278                 0  ...             1          0                     0   \n",
      "\n",
      "        Overlook_Main Road  Overlook_Not Available  Overlook_Pool  \\\n",
      "27086                    0                       0              0   \n",
      "31195                    0                       0              0   \n",
      "88192                    1                       0              0   \n",
      "160254                   0                       0              0   \n",
      "76278                    0                       0              0   \n",
      "\n",
      "        Owner_Co-operative Society  Owner_Freehold  Owner_Leasehold  \\\n",
      "27086                            0               1                0   \n",
      "31195                            0               0                0   \n",
      "88192                            0               1                0   \n",
      "160254                           0               1                0   \n",
      "76278                            0               0                0   \n",
      "\n",
      "        Owner_Power Of Attorney  \n",
      "27086                         0  \n",
      "31195                         0  \n",
      "88192                         0  \n",
      "160254                        0  \n",
      "76278                         0  \n",
      "\n",
      "[5 rows x 27 columns]\n",
      "136353     8500000\n",
      "137839    23500000\n",
      "128582     1650000\n",
      "2887       3500000\n",
      "7912       9500000\n",
      "Name: Amount(in rupees), dtype: int64\n"
     ]
    }
   ],
   "source": [
    "print(X_train.head())\n",
    "print(X_test.head())\n",
    "print(y_train.head())"
   ]
  },
  {
   "cell_type": "code",
   "execution_count": 34,
   "id": "969663a5",
   "metadata": {
    "execution": {
     "iopub.execute_input": "2025-07-26T14:08:00.446225Z",
     "iopub.status.busy": "2025-07-26T14:08:00.445944Z",
     "iopub.status.idle": "2025-07-26T14:08:00.586658Z",
     "shell.execute_reply": "2025-07-26T14:08:00.585634Z"
    },
    "papermill": {
     "duration": 0.153318,
     "end_time": "2025-07-26T14:08:00.588322",
     "exception": false,
     "start_time": "2025-07-26T14:08:00.435004",
     "status": "completed"
    },
    "tags": []
   },
   "outputs": [],
   "source": [
    "scaler = StandardScaler()\n",
    "X_train_scaled = scaler.fit_transform(X_train)\n",
    "X_test_scaled = scaler.transform(X_test)\n",
    "y_train_log = np.log1p(y_train)\n",
    "y_test_log = np.log1p(y_test)"
   ]
  },
  {
   "cell_type": "code",
   "execution_count": 35,
   "id": "86a1a93b",
   "metadata": {
    "execution": {
     "iopub.execute_input": "2025-07-26T14:08:00.609801Z",
     "iopub.status.busy": "2025-07-26T14:08:00.608961Z",
     "iopub.status.idle": "2025-07-26T14:08:00.615240Z",
     "shell.execute_reply": "2025-07-26T14:08:00.614379Z"
    },
    "papermill": {
     "duration": 0.018354,
     "end_time": "2025-07-26T14:08:00.616607",
     "exception": false,
     "start_time": "2025-07-26T14:08:00.598253",
     "status": "completed"
    },
    "tags": []
   },
   "outputs": [
    {
     "data": {
      "text/plain": [
       "array([[ 0.55276599,  0.01792145, -0.3764773 , -0.48941226, -1.2168155 ,\n",
       "        -0.06354929, -0.34712179,  1.05937735, -0.82626476, -0.1256841 ,\n",
       "        -0.64281744, -0.31113175,  2.60363342, -0.14606743, -0.159874  ,\n",
       "        -0.11894742, -0.10519521, -0.77348458, -0.21898327, -0.78787193,\n",
       "        -0.85173065, -0.00577314, -0.37345927, -0.13682507,  0.81846409,\n",
       "        -0.17078887, -0.07553003]])"
      ]
     },
     "execution_count": 35,
     "metadata": {},
     "output_type": "execute_result"
    }
   ],
   "source": [
    "X_train_scaled[:1]"
   ]
  },
  {
   "cell_type": "code",
   "execution_count": 36,
   "id": "e04f481a",
   "metadata": {
    "execution": {
     "iopub.execute_input": "2025-07-26T14:08:00.637912Z",
     "iopub.status.busy": "2025-07-26T14:08:00.637374Z",
     "iopub.status.idle": "2025-07-26T14:08:00.642676Z",
     "shell.execute_reply": "2025-07-26T14:08:00.641783Z"
    },
    "papermill": {
     "duration": 0.017455,
     "end_time": "2025-07-26T14:08:00.644254",
     "exception": false,
     "start_time": "2025-07-26T14:08:00.626799",
     "status": "completed"
    },
    "tags": []
   },
   "outputs": [
    {
     "name": "stdout",
     "output_type": "stream",
     "text": [
      "136353   16\n",
      "137839   17\n",
      "128582   14\n",
      "2887     15\n",
      "7912     16\n",
      "         ..\n",
      "38435    16\n",
      "82244    18\n",
      "153449   16\n",
      "43498    16\n",
      "103546   16\n",
      "Name: Amount(in rupees), Length: 150024, dtype: float64\n"
     ]
    }
   ],
   "source": [
    "print(y_train_log)"
   ]
  },
  {
   "cell_type": "code",
   "execution_count": 37,
   "id": "70f27087",
   "metadata": {
    "execution": {
     "iopub.execute_input": "2025-07-26T14:08:00.665498Z",
     "iopub.status.busy": "2025-07-26T14:08:00.665175Z",
     "iopub.status.idle": "2025-07-26T14:08:00.670191Z",
     "shell.execute_reply": "2025-07-26T14:08:00.669213Z"
    },
    "papermill": {
     "duration": 0.017008,
     "end_time": "2025-07-26T14:08:00.671429",
     "exception": false,
     "start_time": "2025-07-26T14:08:00.654421",
     "status": "completed"
    },
    "tags": []
   },
   "outputs": [
    {
     "name": "stdout",
     "output_type": "stream",
     "text": [
      "X_Train Shape (150024, 27)\n",
      "X_test Shape (37507, 27)\n",
      "y_train shape (150024,)\n",
      "y_test shape (37507,)\n"
     ]
    }
   ],
   "source": [
    "print(\"X_Train Shape\",X_train_scaled.shape)\n",
    "print(\"X_test Shape\",X_test_scaled.shape)\n",
    "print(\"y_train shape\",y_train_log.shape)\n",
    "print(\"y_test shape\",y_test_log.shape)"
   ]
  },
  {
   "cell_type": "code",
   "execution_count": 38,
   "id": "02818616",
   "metadata": {
    "execution": {
     "iopub.execute_input": "2025-07-26T14:08:00.693345Z",
     "iopub.status.busy": "2025-07-26T14:08:00.693056Z",
     "iopub.status.idle": "2025-07-26T14:08:00.799795Z",
     "shell.execute_reply": "2025-07-26T14:08:00.798808Z"
    },
    "papermill": {
     "duration": 0.119254,
     "end_time": "2025-07-26T14:08:00.801363",
     "exception": false,
     "start_time": "2025-07-26T14:08:00.682109",
     "status": "completed"
    },
    "tags": []
   },
   "outputs": [
    {
     "name": "stderr",
     "output_type": "stream",
     "text": [
      "/usr/local/lib/python3.11/dist-packages/keras/src/layers/core/dense.py:87: UserWarning: Do not pass an `input_shape`/`input_dim` argument to a layer. When using Sequential models, prefer using an `Input(shape)` object as the first layer in the model instead.\n",
      "  super().__init__(activity_regularizer=activity_regularizer, **kwargs)\n",
      "2025-07-26 14:08:00.705005: E external/local_xla/xla/stream_executor/cuda/cuda_driver.cc:152] failed call to cuInit: INTERNAL: CUDA error: Failed call to cuInit: UNKNOWN ERROR (303)\n"
     ]
    }
   ],
   "source": [
    "model = Sequential([\n",
    "    Dense(128, activation='relu', input_shape=(27,)),\n",
    "    Dense(64, activation='relu'),\n",
    "    Dense(32, activation='relu'),\n",
    "    Dense(1)  \n",
    "])\n",
    "model.compile(optimizer='adam', loss='mse')"
   ]
  },
  {
   "cell_type": "code",
   "execution_count": 39,
   "id": "35c4e20e",
   "metadata": {
    "execution": {
     "iopub.execute_input": "2025-07-26T14:08:00.823108Z",
     "iopub.status.busy": "2025-07-26T14:08:00.822792Z",
     "iopub.status.idle": "2025-07-26T14:15:25.084109Z",
     "shell.execute_reply": "2025-07-26T14:15:25.083210Z"
    },
    "papermill": {
     "duration": 444.273611,
     "end_time": "2025-07-26T14:15:25.085376",
     "exception": false,
     "start_time": "2025-07-26T14:08:00.811765",
     "status": "completed"
    },
    "tags": []
   },
   "outputs": [
    {
     "name": "stdout",
     "output_type": "stream",
     "text": [
      "Epoch 1/50\n",
      "\u001b[1m5001/5001\u001b[0m \u001b[32m━━━━━━━━━━━━━━━━━━━━\u001b[0m\u001b[37m\u001b[0m \u001b[1m11s\u001b[0m 2ms/step - loss: 9.8748 - val_loss: 0.2380\n",
      "Epoch 2/50\n",
      "\u001b[1m5001/5001\u001b[0m \u001b[32m━━━━━━━━━━━━━━━━━━━━\u001b[0m\u001b[37m\u001b[0m \u001b[1m9s\u001b[0m 2ms/step - loss: 0.4211 - val_loss: 0.2071\n",
      "Epoch 3/50\n",
      "\u001b[1m5001/5001\u001b[0m \u001b[32m━━━━━━━━━━━━━━━━━━━━\u001b[0m\u001b[37m\u001b[0m \u001b[1m9s\u001b[0m 2ms/step - loss: 0.2314 - val_loss: 0.1959\n",
      "Epoch 4/50\n",
      "\u001b[1m5001/5001\u001b[0m \u001b[32m━━━━━━━━━━━━━━━━━━━━\u001b[0m\u001b[37m\u001b[0m \u001b[1m9s\u001b[0m 2ms/step - loss: 0.2334 - val_loss: 0.2551\n",
      "Epoch 5/50\n",
      "\u001b[1m5001/5001\u001b[0m \u001b[32m━━━━━━━━━━━━━━━━━━━━\u001b[0m\u001b[37m\u001b[0m \u001b[1m9s\u001b[0m 2ms/step - loss: 0.2064 - val_loss: 0.2122\n",
      "Epoch 6/50\n",
      "\u001b[1m5001/5001\u001b[0m \u001b[32m━━━━━━━━━━━━━━━━━━━━\u001b[0m\u001b[37m\u001b[0m \u001b[1m9s\u001b[0m 2ms/step - loss: 0.2090 - val_loss: 0.1887\n",
      "Epoch 7/50\n",
      "\u001b[1m5001/5001\u001b[0m \u001b[32m━━━━━━━━━━━━━━━━━━━━\u001b[0m\u001b[37m\u001b[0m \u001b[1m9s\u001b[0m 2ms/step - loss: 0.2910 - val_loss: 0.1861\n",
      "Epoch 8/50\n",
      "\u001b[1m5001/5001\u001b[0m \u001b[32m━━━━━━━━━━━━━━━━━━━━\u001b[0m\u001b[37m\u001b[0m \u001b[1m9s\u001b[0m 2ms/step - loss: 0.1986 - val_loss: 0.2178\n",
      "Epoch 9/50\n",
      "\u001b[1m5001/5001\u001b[0m \u001b[32m━━━━━━━━━━━━━━━━━━━━\u001b[0m\u001b[37m\u001b[0m \u001b[1m9s\u001b[0m 2ms/step - loss: 0.1955 - val_loss: 0.1744\n",
      "Epoch 10/50\n",
      "\u001b[1m5001/5001\u001b[0m \u001b[32m━━━━━━━━━━━━━━━━━━━━\u001b[0m\u001b[37m\u001b[0m \u001b[1m9s\u001b[0m 2ms/step - loss: 0.1849 - val_loss: 0.1873\n",
      "Epoch 11/50\n",
      "\u001b[1m5001/5001\u001b[0m \u001b[32m━━━━━━━━━━━━━━━━━━━━\u001b[0m\u001b[37m\u001b[0m \u001b[1m9s\u001b[0m 2ms/step - loss: 0.1815 - val_loss: 0.1694\n",
      "Epoch 12/50\n",
      "\u001b[1m5001/5001\u001b[0m \u001b[32m━━━━━━━━━━━━━━━━━━━━\u001b[0m\u001b[37m\u001b[0m \u001b[1m9s\u001b[0m 2ms/step - loss: 0.1932 - val_loss: 0.1606\n",
      "Epoch 13/50\n",
      "\u001b[1m5001/5001\u001b[0m \u001b[32m━━━━━━━━━━━━━━━━━━━━\u001b[0m\u001b[37m\u001b[0m \u001b[1m9s\u001b[0m 2ms/step - loss: 0.1823 - val_loss: 0.1623\n",
      "Epoch 14/50\n",
      "\u001b[1m5001/5001\u001b[0m \u001b[32m━━━━━━━━━━━━━━━━━━━━\u001b[0m\u001b[37m\u001b[0m \u001b[1m9s\u001b[0m 2ms/step - loss: 0.1713 - val_loss: 0.1614\n",
      "Epoch 15/50\n",
      "\u001b[1m5001/5001\u001b[0m \u001b[32m━━━━━━━━━━━━━━━━━━━━\u001b[0m\u001b[37m\u001b[0m \u001b[1m9s\u001b[0m 2ms/step - loss: 0.1739 - val_loss: 0.1682\n",
      "Epoch 16/50\n",
      "\u001b[1m5001/5001\u001b[0m \u001b[32m━━━━━━━━━━━━━━━━━━━━\u001b[0m\u001b[37m\u001b[0m \u001b[1m9s\u001b[0m 2ms/step - loss: 0.1678 - val_loss: 0.1906\n",
      "Epoch 17/50\n",
      "\u001b[1m5001/5001\u001b[0m \u001b[32m━━━━━━━━━━━━━━━━━━━━\u001b[0m\u001b[37m\u001b[0m \u001b[1m9s\u001b[0m 2ms/step - loss: 0.1681 - val_loss: 0.1652\n",
      "Epoch 18/50\n",
      "\u001b[1m5001/5001\u001b[0m \u001b[32m━━━━━━━━━━━━━━━━━━━━\u001b[0m\u001b[37m\u001b[0m \u001b[1m9s\u001b[0m 2ms/step - loss: 0.1661 - val_loss: 0.1847\n",
      "Epoch 19/50\n",
      "\u001b[1m5001/5001\u001b[0m \u001b[32m━━━━━━━━━━━━━━━━━━━━\u001b[0m\u001b[37m\u001b[0m \u001b[1m9s\u001b[0m 2ms/step - loss: 0.1640 - val_loss: 0.1725\n",
      "Epoch 20/50\n",
      "\u001b[1m5001/5001\u001b[0m \u001b[32m━━━━━━━━━━━━━━━━━━━━\u001b[0m\u001b[37m\u001b[0m \u001b[1m9s\u001b[0m 2ms/step - loss: 0.1694 - val_loss: 0.1740\n",
      "Epoch 21/50\n",
      "\u001b[1m5001/5001\u001b[0m \u001b[32m━━━━━━━━━━━━━━━━━━━━\u001b[0m\u001b[37m\u001b[0m \u001b[1m9s\u001b[0m 2ms/step - loss: 0.1663 - val_loss: 0.1687\n",
      "Epoch 22/50\n",
      "\u001b[1m5001/5001\u001b[0m \u001b[32m━━━━━━━━━━━━━━━━━━━━\u001b[0m\u001b[37m\u001b[0m \u001b[1m9s\u001b[0m 2ms/step - loss: 0.1629 - val_loss: 0.1608\n",
      "Epoch 23/50\n",
      "\u001b[1m5001/5001\u001b[0m \u001b[32m━━━━━━━━━━━━━━━━━━━━\u001b[0m\u001b[37m\u001b[0m \u001b[1m9s\u001b[0m 2ms/step - loss: 0.1682 - val_loss: 0.1561\n",
      "Epoch 24/50\n",
      "\u001b[1m5001/5001\u001b[0m \u001b[32m━━━━━━━━━━━━━━━━━━━━\u001b[0m\u001b[37m\u001b[0m \u001b[1m9s\u001b[0m 2ms/step - loss: 0.1590 - val_loss: 0.1594\n",
      "Epoch 25/50\n",
      "\u001b[1m5001/5001\u001b[0m \u001b[32m━━━━━━━━━━━━━━━━━━━━\u001b[0m\u001b[37m\u001b[0m \u001b[1m9s\u001b[0m 2ms/step - loss: 0.1631 - val_loss: 0.1623\n",
      "Epoch 26/50\n",
      "\u001b[1m5001/5001\u001b[0m \u001b[32m━━━━━━━━━━━━━━━━━━━━\u001b[0m\u001b[37m\u001b[0m \u001b[1m9s\u001b[0m 2ms/step - loss: 0.1617 - val_loss: 0.1650\n",
      "Epoch 27/50\n",
      "\u001b[1m5001/5001\u001b[0m \u001b[32m━━━━━━━━━━━━━━━━━━━━\u001b[0m\u001b[37m\u001b[0m \u001b[1m9s\u001b[0m 2ms/step - loss: 0.1603 - val_loss: 0.1818\n",
      "Epoch 28/50\n",
      "\u001b[1m5001/5001\u001b[0m \u001b[32m━━━━━━━━━━━━━━━━━━━━\u001b[0m\u001b[37m\u001b[0m \u001b[1m9s\u001b[0m 2ms/step - loss: 0.1613 - val_loss: 0.1522\n",
      "Epoch 29/50\n",
      "\u001b[1m5001/5001\u001b[0m \u001b[32m━━━━━━━━━━━━━━━━━━━━\u001b[0m\u001b[37m\u001b[0m \u001b[1m9s\u001b[0m 2ms/step - loss: 0.1582 - val_loss: 0.1561\n",
      "Epoch 30/50\n",
      "\u001b[1m5001/5001\u001b[0m \u001b[32m━━━━━━━━━━━━━━━━━━━━\u001b[0m\u001b[37m\u001b[0m \u001b[1m9s\u001b[0m 2ms/step - loss: 0.1715 - val_loss: 0.1612\n",
      "Epoch 31/50\n",
      "\u001b[1m5001/5001\u001b[0m \u001b[32m━━━━━━━━━━━━━━━━━━━━\u001b[0m\u001b[37m\u001b[0m \u001b[1m9s\u001b[0m 2ms/step - loss: 0.1567 - val_loss: 0.1572\n",
      "Epoch 32/50\n",
      "\u001b[1m5001/5001\u001b[0m \u001b[32m━━━━━━━━━━━━━━━━━━━━\u001b[0m\u001b[37m\u001b[0m \u001b[1m9s\u001b[0m 2ms/step - loss: 0.1567 - val_loss: 0.1766\n",
      "Epoch 33/50\n",
      "\u001b[1m5001/5001\u001b[0m \u001b[32m━━━━━━━━━━━━━━━━━━━━\u001b[0m\u001b[37m\u001b[0m \u001b[1m9s\u001b[0m 2ms/step - loss: 0.1577 - val_loss: 0.1545\n",
      "Epoch 34/50\n",
      "\u001b[1m5001/5001\u001b[0m \u001b[32m━━━━━━━━━━━━━━━━━━━━\u001b[0m\u001b[37m\u001b[0m \u001b[1m9s\u001b[0m 2ms/step - loss: 0.1544 - val_loss: 0.1561\n",
      "Epoch 35/50\n",
      "\u001b[1m5001/5001\u001b[0m \u001b[32m━━━━━━━━━━━━━━━━━━━━\u001b[0m\u001b[37m\u001b[0m \u001b[1m9s\u001b[0m 2ms/step - loss: 0.1537 - val_loss: 0.1587\n",
      "Epoch 36/50\n",
      "\u001b[1m5001/5001\u001b[0m \u001b[32m━━━━━━━━━━━━━━━━━━━━\u001b[0m\u001b[37m\u001b[0m \u001b[1m9s\u001b[0m 2ms/step - loss: 0.1553 - val_loss: 0.1560\n",
      "Epoch 37/50\n",
      "\u001b[1m5001/5001\u001b[0m \u001b[32m━━━━━━━━━━━━━━━━━━━━\u001b[0m\u001b[37m\u001b[0m \u001b[1m9s\u001b[0m 2ms/step - loss: 0.1520 - val_loss: 0.1536\n",
      "Epoch 38/50\n",
      "\u001b[1m5001/5001\u001b[0m \u001b[32m━━━━━━━━━━━━━━━━━━━━\u001b[0m\u001b[37m\u001b[0m \u001b[1m9s\u001b[0m 2ms/step - loss: 0.1528 - val_loss: 0.1686\n",
      "Epoch 39/50\n",
      "\u001b[1m5001/5001\u001b[0m \u001b[32m━━━━━━━━━━━━━━━━━━━━\u001b[0m\u001b[37m\u001b[0m \u001b[1m9s\u001b[0m 2ms/step - loss: 0.1520 - val_loss: 0.1536\n",
      "Epoch 40/50\n",
      "\u001b[1m5001/5001\u001b[0m \u001b[32m━━━━━━━━━━━━━━━━━━━━\u001b[0m\u001b[37m\u001b[0m \u001b[1m9s\u001b[0m 2ms/step - loss: 0.1525 - val_loss: 0.1635\n",
      "Epoch 41/50\n",
      "\u001b[1m5001/5001\u001b[0m \u001b[32m━━━━━━━━━━━━━━━━━━━━\u001b[0m\u001b[37m\u001b[0m \u001b[1m9s\u001b[0m 2ms/step - loss: 0.1509 - val_loss: 0.1545\n",
      "Epoch 42/50\n",
      "\u001b[1m5001/5001\u001b[0m \u001b[32m━━━━━━━━━━━━━━━━━━━━\u001b[0m\u001b[37m\u001b[0m \u001b[1m9s\u001b[0m 2ms/step - loss: 0.1516 - val_loss: 0.1460\n",
      "Epoch 43/50\n",
      "\u001b[1m5001/5001\u001b[0m \u001b[32m━━━━━━━━━━━━━━━━━━━━\u001b[0m\u001b[37m\u001b[0m \u001b[1m9s\u001b[0m 2ms/step - loss: 0.1493 - val_loss: 0.1522\n",
      "Epoch 44/50\n",
      "\u001b[1m5001/5001\u001b[0m \u001b[32m━━━━━━━━━━━━━━━━━━━━\u001b[0m\u001b[37m\u001b[0m \u001b[1m9s\u001b[0m 2ms/step - loss: 0.1525 - val_loss: 0.1483\n",
      "Epoch 45/50\n",
      "\u001b[1m5001/5001\u001b[0m \u001b[32m━━━━━━━━━━━━━━━━━━━━\u001b[0m\u001b[37m\u001b[0m \u001b[1m9s\u001b[0m 2ms/step - loss: 0.1503 - val_loss: 0.1474\n",
      "Epoch 46/50\n",
      "\u001b[1m5001/5001\u001b[0m \u001b[32m━━━━━━━━━━━━━━━━━━━━\u001b[0m\u001b[37m\u001b[0m \u001b[1m9s\u001b[0m 2ms/step - loss: 0.1487 - val_loss: 0.1512\n",
      "Epoch 47/50\n",
      "\u001b[1m5001/5001\u001b[0m \u001b[32m━━━━━━━━━━━━━━━━━━━━\u001b[0m\u001b[37m\u001b[0m \u001b[1m9s\u001b[0m 2ms/step - loss: 0.1471 - val_loss: 0.1735\n",
      "Epoch 48/50\n",
      "\u001b[1m5001/5001\u001b[0m \u001b[32m━━━━━━━━━━━━━━━━━━━━\u001b[0m\u001b[37m\u001b[0m \u001b[1m9s\u001b[0m 2ms/step - loss: 0.1565 - val_loss: 0.1489\n",
      "Epoch 49/50\n",
      "\u001b[1m5001/5001\u001b[0m \u001b[32m━━━━━━━━━━━━━━━━━━━━\u001b[0m\u001b[37m\u001b[0m \u001b[1m9s\u001b[0m 2ms/step - loss: 0.1481 - val_loss: 0.1526\n",
      "Epoch 50/50\n",
      "\u001b[1m5001/5001\u001b[0m \u001b[32m━━━━━━━━━━━━━━━━━━━━\u001b[0m\u001b[37m\u001b[0m \u001b[1m9s\u001b[0m 2ms/step - loss: 0.1488 - val_loss: 0.1554\n"
     ]
    },
    {
     "data": {
      "text/plain": [
       "<keras.src.callbacks.history.History at 0x7b4b02e01d90>"
      ]
     },
     "execution_count": 39,
     "metadata": {},
     "output_type": "execute_result"
    }
   ],
   "source": [
    "model.fit(X_train_scaled, y_train_log, epochs=50, batch_size=27, validation_split=0.1,verbose=1)"
   ]
  },
  {
   "cell_type": "code",
   "execution_count": 40,
   "id": "dfaeee8c",
   "metadata": {
    "execution": {
     "iopub.execute_input": "2025-07-26T14:15:25.860978Z",
     "iopub.status.busy": "2025-07-26T14:15:25.860628Z",
     "iopub.status.idle": "2025-07-26T14:15:27.632975Z",
     "shell.execute_reply": "2025-07-26T14:15:27.632185Z"
    },
    "papermill": {
     "duration": 2.160273,
     "end_time": "2025-07-26T14:15:27.634451",
     "exception": false,
     "start_time": "2025-07-26T14:15:25.474178",
     "status": "completed"
    },
    "tags": []
   },
   "outputs": [
    {
     "name": "stdout",
     "output_type": "stream",
     "text": [
      "\u001b[1m1173/1173\u001b[0m \u001b[32m━━━━━━━━━━━━━━━━━━━━\u001b[0m\u001b[37m\u001b[0m \u001b[1m1s\u001b[0m 979us/step\n"
     ]
    }
   ],
   "source": [
    "y_pred = model.predict(X_test_scaled)"
   ]
  },
  {
   "cell_type": "code",
   "execution_count": 41,
   "id": "43d72b57",
   "metadata": {
    "execution": {
     "iopub.execute_input": "2025-07-26T14:15:28.474514Z",
     "iopub.status.busy": "2025-07-26T14:15:28.473261Z",
     "iopub.status.idle": "2025-07-26T14:15:28.483957Z",
     "shell.execute_reply": "2025-07-26T14:15:28.483000Z"
    },
    "papermill": {
     "duration": 0.403749,
     "end_time": "2025-07-26T14:15:28.485426",
     "exception": false,
     "start_time": "2025-07-26T14:15:28.081677",
     "status": "completed"
    },
    "tags": []
   },
   "outputs": [
    {
     "name": "stdout",
     "output_type": "stream",
     "text": [
      "Mean Squared Error: 0.15941792027636395\n",
      "R² Score: 0.7587572614569711\n"
     ]
    }
   ],
   "source": [
    "mse = mean_squared_error(y_test_log, y_pred)\n",
    "r2 = r2_score(y_test_log, y_pred)\n",
    "\n",
    "print(\"Mean Squared Error:\", mse)\n",
    "print(\"R² Score:\", r2)"
   ]
  },
  {
   "cell_type": "markdown",
   "id": "af4d74cd",
   "metadata": {
    "papermill": {
     "duration": 0.450613,
     "end_time": "2025-07-26T14:15:29.312193",
     "exception": false,
     "start_time": "2025-07-26T14:15:28.861580",
     "status": "completed"
    },
    "tags": []
   },
   "source": [
    "\n",
    "**We have attained a Mean Squared Error (MSE) of 0.1551 and an R² Score of 0.7651, which indicates that our linear regression model is performing reasonably well given the current level of data preprocessing and feature engineering. An R² score of approximately 0.76 suggests that the model is able to explain about 76% of the variance in the target variable, which is a good starting point for a basic model built with minimal processing.**\n",
    "\n",
    "**However, this performance has been achieved using only simple data cleaning techniques and without extensive optimization or transformation of features. For example, we performed basic cleaning such as converting textual price formats into numeric values, extracting numerical insights from floor information, and filling missing values with location-based or global averages. We have not yet incorporated more advanced steps such as outlier removal, polynomial feature creation, feature selection, encoding location semantics more efficiently, or hyperparameter tuning.**\n",
    "\n",
    "**This experiment primarily serves as a baseline to understand how a simple Multi-Layer Perceptron (MLP) architecture combined with a linear regression layer behaves on structured tabular data. The encouraging performance highlights the potential of the model and dataset — suggesting that with more refined feature engineering, such as handling skewed distributions, encoding categorical features in a more informative way (e.g., target encoding or embeddings), or switching to a more complex model like XGBoost or a deep MLP with non-linear activations, we can likely achieve much better results.**\n",
    "\n",
    "**In summary, this project successfully demonstrates the foundational pipeline of cleaning real estate data and applying a basic MLP regression model. The results show promise, and with further refinement in data preprocessing and model optimization, there is significant scope to improve the prediction accuracy and build a robust, production-grade model.**\n"
   ]
  }
 ],
 "metadata": {
  "kaggle": {
   "accelerator": "none",
   "dataSources": [
    {
     "datasetId": 3583769,
     "sourceId": 6237943,
     "sourceType": "datasetVersion"
    }
   ],
   "dockerImageVersionId": 31089,
   "isGpuEnabled": false,
   "isInternetEnabled": true,
   "language": "python",
   "sourceType": "notebook"
  },
  "kernelspec": {
   "display_name": "Python 3",
   "language": "python",
   "name": "python3"
  },
  "language_info": {
   "codemirror_mode": {
    "name": "ipython",
    "version": 3
   },
   "file_extension": ".py",
   "mimetype": "text/x-python",
   "name": "python",
   "nbconvert_exporter": "python",
   "pygments_lexer": "ipython3",
   "version": "3.11.13"
  },
  "papermill": {
   "default_parameters": {},
   "duration": 483.400952,
   "end_time": "2025-07-26T14:15:32.458965",
   "environment_variables": {},
   "exception": null,
   "input_path": "__notebook__.ipynb",
   "output_path": "__notebook__.ipynb",
   "parameters": {},
   "start_time": "2025-07-26T14:07:29.058013",
   "version": "2.6.0"
  }
 },
 "nbformat": 4,
 "nbformat_minor": 5
}
